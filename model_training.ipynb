{
 "cells": [
  {
   "cell_type": "markdown",
   "metadata": {},
   "source": [
    "# 🤖 Model Training"
   ]
  },
  {
   "cell_type": "markdown",
   "metadata": {},
   "source": [
    "# 📈 Gradient Boosting Classifier"
   ]
  },
  {
   "cell_type": "markdown",
   "metadata": {},
   "source": [
    "This notebook provides a thorough analysis of the Gradient Boosting classifier, employing it to address our music genre classification challenge."
   ]
  },
  {
   "cell_type": "code",
   "execution_count": 1,
   "metadata": {},
   "outputs": [],
   "source": [
    "from sklearn.model_selection import GridSearchCV, train_test_split, RandomizedSearchCV, StratifiedKFold\n",
    "from sklearn.ensemble import GradientBoostingClassifier\n",
    "from sklearn.feature_selection import SelectFromModel, SequentialFeatureSelector\n",
    "from sklearn.preprocessing import LabelEncoder\n",
    "from sklearn import metrics \n",
    "\n",
    "import numpy as np\n",
    "import pandas as pd"
   ]
  },
  {
   "cell_type": "markdown",
   "metadata": {},
   "source": [
    "We start by loading the stratified data that has been split into the train and test splits respectively."
   ]
  },
  {
   "cell_type": "code",
   "execution_count": 2,
   "metadata": {},
   "outputs": [],
   "source": [
    "df_train = pd.read_csv('data/train.csv')\n",
    "df_test = pd.read_csv('data/test.csv')\n",
    "X_train = df_train.iloc[:,:-1]\n",
    "y_train = df_train['genre']\n",
    "X_test = df_test.iloc[:,:-1]\n",
    "y_test = df_test['genre']"
   ]
  },
  {
   "cell_type": "code",
   "execution_count": 3,
   "metadata": {},
   "outputs": [
    {
     "data": {
      "text/html": [
       "<div>\n",
       "<style scoped>\n",
       "    .dataframe tbody tr th:only-of-type {\n",
       "        vertical-align: middle;\n",
       "    }\n",
       "\n",
       "    .dataframe tbody tr th {\n",
       "        vertical-align: top;\n",
       "    }\n",
       "\n",
       "    .dataframe thead th {\n",
       "        text-align: right;\n",
       "    }\n",
       "</style>\n",
       "<table border=\"1\" class=\"dataframe\">\n",
       "  <thead>\n",
       "    <tr style=\"text-align: right;\">\n",
       "      <th></th>\n",
       "      <th>id</th>\n",
       "      <th>preview_url</th>\n",
       "      <th>mode</th>\n",
       "      <th>danceability</th>\n",
       "      <th>energy</th>\n",
       "      <th>loudness</th>\n",
       "      <th>speechiness</th>\n",
       "      <th>acousticness</th>\n",
       "      <th>instrumentalness</th>\n",
       "      <th>liveness</th>\n",
       "      <th>...</th>\n",
       "      <th>artist_genre_country</th>\n",
       "      <th>artist_genre_dance</th>\n",
       "      <th>artist_genre_hip</th>\n",
       "      <th>artist_genre_hop</th>\n",
       "      <th>artist_genre_metal</th>\n",
       "      <th>artist_genre_pop</th>\n",
       "      <th>artist_genre_rap</th>\n",
       "      <th>artist_genre_rock</th>\n",
       "      <th>artist_genre_trap</th>\n",
       "      <th>genre</th>\n",
       "    </tr>\n",
       "  </thead>\n",
       "  <tbody>\n",
       "    <tr>\n",
       "      <th>0</th>\n",
       "      <td>15wos7ChIkysPIrX31hwwa</td>\n",
       "      <td>https://p.scdn.co/mp3-preview/6ee63d690b1d66aa...</td>\n",
       "      <td>1</td>\n",
       "      <td>0.570390</td>\n",
       "      <td>0.609811</td>\n",
       "      <td>0.889349</td>\n",
       "      <td>0.077387</td>\n",
       "      <td>0.033733</td>\n",
       "      <td>0.000466</td>\n",
       "      <td>0.142857</td>\n",
       "      <td>...</td>\n",
       "      <td>0</td>\n",
       "      <td>0</td>\n",
       "      <td>2</td>\n",
       "      <td>1</td>\n",
       "      <td>0</td>\n",
       "      <td>2</td>\n",
       "      <td>1</td>\n",
       "      <td>0</td>\n",
       "      <td>0</td>\n",
       "      <td>4</td>\n",
       "    </tr>\n",
       "    <tr>\n",
       "      <th>1</th>\n",
       "      <td>7csz4sW8pAL4M378czLtlD</td>\n",
       "      <td>https://p.scdn.co/mp3-preview/b3a469eb989d29b9...</td>\n",
       "      <td>0</td>\n",
       "      <td>0.464640</td>\n",
       "      <td>0.969831</td>\n",
       "      <td>0.951197</td>\n",
       "      <td>0.163211</td>\n",
       "      <td>0.000232</td>\n",
       "      <td>0.000000</td>\n",
       "      <td>0.252492</td>\n",
       "      <td>...</td>\n",
       "      <td>0</td>\n",
       "      <td>0</td>\n",
       "      <td>0</td>\n",
       "      <td>0</td>\n",
       "      <td>2</td>\n",
       "      <td>0</td>\n",
       "      <td>0</td>\n",
       "      <td>2</td>\n",
       "      <td>0</td>\n",
       "      <td>3</td>\n",
       "    </tr>\n",
       "    <tr>\n",
       "      <th>2</th>\n",
       "      <td>3EG9FJ0ToLfgnc1IG2Z1wz</td>\n",
       "      <td>https://p.scdn.co/mp3-preview/d82ed534bd9772e1...</td>\n",
       "      <td>1</td>\n",
       "      <td>0.445913</td>\n",
       "      <td>0.653054</td>\n",
       "      <td>0.902531</td>\n",
       "      <td>0.118129</td>\n",
       "      <td>0.334336</td>\n",
       "      <td>0.000325</td>\n",
       "      <td>0.878738</td>\n",
       "      <td>...</td>\n",
       "      <td>0</td>\n",
       "      <td>0</td>\n",
       "      <td>1</td>\n",
       "      <td>1</td>\n",
       "      <td>0</td>\n",
       "      <td>0</td>\n",
       "      <td>1</td>\n",
       "      <td>0</td>\n",
       "      <td>0</td>\n",
       "      <td>5</td>\n",
       "    </tr>\n",
       "    <tr>\n",
       "      <th>3</th>\n",
       "      <td>0f37VQs969vZUL4gVfHRV9</td>\n",
       "      <td>https://p.scdn.co/mp3-preview/ab5bc6e257c6a5a4...</td>\n",
       "      <td>1</td>\n",
       "      <td>0.537343</td>\n",
       "      <td>0.941673</td>\n",
       "      <td>0.889847</td>\n",
       "      <td>0.356316</td>\n",
       "      <td>0.001725</td>\n",
       "      <td>0.000245</td>\n",
       "      <td>0.146179</td>\n",
       "      <td>...</td>\n",
       "      <td>0</td>\n",
       "      <td>0</td>\n",
       "      <td>0</td>\n",
       "      <td>0</td>\n",
       "      <td>1</td>\n",
       "      <td>0</td>\n",
       "      <td>0</td>\n",
       "      <td>0</td>\n",
       "      <td>0</td>\n",
       "      <td>3</td>\n",
       "    </tr>\n",
       "    <tr>\n",
       "      <th>4</th>\n",
       "      <td>42ZVk59gT4tMlrZmd8Ijxf</td>\n",
       "      <td>https://p.scdn.co/mp3-preview/ce96eec80fbfd784...</td>\n",
       "      <td>1</td>\n",
       "      <td>0.402952</td>\n",
       "      <td>0.968825</td>\n",
       "      <td>0.911015</td>\n",
       "      <td>0.120781</td>\n",
       "      <td>0.000208</td>\n",
       "      <td>0.126919</td>\n",
       "      <td>0.581395</td>\n",
       "      <td>...</td>\n",
       "      <td>0</td>\n",
       "      <td>0</td>\n",
       "      <td>0</td>\n",
       "      <td>0</td>\n",
       "      <td>3</td>\n",
       "      <td>0</td>\n",
       "      <td>1</td>\n",
       "      <td>1</td>\n",
       "      <td>0</td>\n",
       "      <td>3</td>\n",
       "    </tr>\n",
       "  </tbody>\n",
       "</table>\n",
       "<p>5 rows × 110 columns</p>\n",
       "</div>"
      ],
      "text/plain": [
       "                       id                                        preview_url  \\\n",
       "0  15wos7ChIkysPIrX31hwwa  https://p.scdn.co/mp3-preview/6ee63d690b1d66aa...   \n",
       "1  7csz4sW8pAL4M378czLtlD  https://p.scdn.co/mp3-preview/b3a469eb989d29b9...   \n",
       "2  3EG9FJ0ToLfgnc1IG2Z1wz  https://p.scdn.co/mp3-preview/d82ed534bd9772e1...   \n",
       "3  0f37VQs969vZUL4gVfHRV9  https://p.scdn.co/mp3-preview/ab5bc6e257c6a5a4...   \n",
       "4  42ZVk59gT4tMlrZmd8Ijxf  https://p.scdn.co/mp3-preview/ce96eec80fbfd784...   \n",
       "\n",
       "   mode  danceability    energy  loudness  speechiness  acousticness  \\\n",
       "0     1      0.570390  0.609811  0.889349     0.077387      0.033733   \n",
       "1     0      0.464640  0.969831  0.951197     0.163211      0.000232   \n",
       "2     1      0.445913  0.653054  0.902531     0.118129      0.334336   \n",
       "3     1      0.537343  0.941673  0.889847     0.356316      0.001725   \n",
       "4     1      0.402952  0.968825  0.911015     0.120781      0.000208   \n",
       "\n",
       "   instrumentalness  liveness  ...  artist_genre_country  artist_genre_dance  \\\n",
       "0          0.000466  0.142857  ...                     0                   0   \n",
       "1          0.000000  0.252492  ...                     0                   0   \n",
       "2          0.000325  0.878738  ...                     0                   0   \n",
       "3          0.000245  0.146179  ...                     0                   0   \n",
       "4          0.126919  0.581395  ...                     0                   0   \n",
       "\n",
       "   artist_genre_hip  artist_genre_hop  artist_genre_metal  artist_genre_pop  \\\n",
       "0                 2                 1                   0                 2   \n",
       "1                 0                 0                   2                 0   \n",
       "2                 1                 1                   0                 0   \n",
       "3                 0                 0                   1                 0   \n",
       "4                 0                 0                   3                 0   \n",
       "\n",
       "   artist_genre_rap  artist_genre_rock  artist_genre_trap  genre  \n",
       "0                 1                  0                  0      4  \n",
       "1                 0                  2                  0      3  \n",
       "2                 1                  0                  0      5  \n",
       "3                 0                  0                  0      3  \n",
       "4                 1                  1                  0      3  \n",
       "\n",
       "[5 rows x 110 columns]"
      ]
     },
     "execution_count": 3,
     "metadata": {},
     "output_type": "execute_result"
    }
   ],
   "source": [
    "df_train.head()"
   ]
  },
  {
   "cell_type": "code",
   "execution_count": 4,
   "metadata": {},
   "outputs": [
    {
     "data": {
      "text/html": [
       "<div>\n",
       "<style scoped>\n",
       "    .dataframe tbody tr th:only-of-type {\n",
       "        vertical-align: middle;\n",
       "    }\n",
       "\n",
       "    .dataframe tbody tr th {\n",
       "        vertical-align: top;\n",
       "    }\n",
       "\n",
       "    .dataframe thead th {\n",
       "        text-align: right;\n",
       "    }\n",
       "</style>\n",
       "<table border=\"1\" class=\"dataframe\">\n",
       "  <thead>\n",
       "    <tr style=\"text-align: right;\">\n",
       "      <th></th>\n",
       "      <th>id</th>\n",
       "      <th>preview_url</th>\n",
       "      <th>mode</th>\n",
       "      <th>danceability</th>\n",
       "      <th>energy</th>\n",
       "      <th>loudness</th>\n",
       "      <th>speechiness</th>\n",
       "      <th>acousticness</th>\n",
       "      <th>instrumentalness</th>\n",
       "      <th>liveness</th>\n",
       "      <th>...</th>\n",
       "      <th>artist_genre_country</th>\n",
       "      <th>artist_genre_dance</th>\n",
       "      <th>artist_genre_hip</th>\n",
       "      <th>artist_genre_hop</th>\n",
       "      <th>artist_genre_metal</th>\n",
       "      <th>artist_genre_pop</th>\n",
       "      <th>artist_genre_rap</th>\n",
       "      <th>artist_genre_rock</th>\n",
       "      <th>artist_genre_trap</th>\n",
       "      <th>genre</th>\n",
       "    </tr>\n",
       "  </thead>\n",
       "  <tbody>\n",
       "    <tr>\n",
       "      <th>0</th>\n",
       "      <td>5RG1HRQocUAafoCrGd9lY5</td>\n",
       "      <td>https://p.scdn.co/mp3-preview/f9772fc13fc90d56...</td>\n",
       "      <td>0</td>\n",
       "      <td>0.444812</td>\n",
       "      <td>0.270910</td>\n",
       "      <td>0.657215</td>\n",
       "      <td>0.036162</td>\n",
       "      <td>0.882530</td>\n",
       "      <td>0.000000</td>\n",
       "      <td>0.416944</td>\n",
       "      <td>...</td>\n",
       "      <td>0</td>\n",
       "      <td>0</td>\n",
       "      <td>1</td>\n",
       "      <td>1</td>\n",
       "      <td>0</td>\n",
       "      <td>0</td>\n",
       "      <td>0</td>\n",
       "      <td>0</td>\n",
       "      <td>0</td>\n",
       "      <td>5</td>\n",
       "    </tr>\n",
       "    <tr>\n",
       "      <th>1</th>\n",
       "      <td>5toaXJWnmQCnGRh8eOrEwE</td>\n",
       "      <td>https://p.scdn.co/mp3-preview/23b00769d9f4d4b3...</td>\n",
       "      <td>1</td>\n",
       "      <td>0.875523</td>\n",
       "      <td>0.661099</td>\n",
       "      <td>0.818493</td>\n",
       "      <td>0.013983</td>\n",
       "      <td>0.231926</td>\n",
       "      <td>0.000000</td>\n",
       "      <td>0.279070</td>\n",
       "      <td>...</td>\n",
       "      <td>3</td>\n",
       "      <td>0</td>\n",
       "      <td>0</td>\n",
       "      <td>0</td>\n",
       "      <td>0</td>\n",
       "      <td>0</td>\n",
       "      <td>0</td>\n",
       "      <td>0</td>\n",
       "      <td>0</td>\n",
       "      <td>1</td>\n",
       "    </tr>\n",
       "    <tr>\n",
       "      <th>2</th>\n",
       "      <td>7b7MKh1kOgwASPihOs7vve</td>\n",
       "      <td>https://p.scdn.co/mp3-preview/0269a1cb51256005...</td>\n",
       "      <td>0</td>\n",
       "      <td>0.608945</td>\n",
       "      <td>0.602772</td>\n",
       "      <td>0.818604</td>\n",
       "      <td>0.534716</td>\n",
       "      <td>0.358433</td>\n",
       "      <td>0.000000</td>\n",
       "      <td>0.174419</td>\n",
       "      <td>...</td>\n",
       "      <td>0</td>\n",
       "      <td>0</td>\n",
       "      <td>0</td>\n",
       "      <td>0</td>\n",
       "      <td>0</td>\n",
       "      <td>0</td>\n",
       "      <td>0</td>\n",
       "      <td>0</td>\n",
       "      <td>0</td>\n",
       "      <td>5</td>\n",
       "    </tr>\n",
       "    <tr>\n",
       "      <th>3</th>\n",
       "      <td>5Z3GHaZ6ec9bsiI5BenrbY</td>\n",
       "      <td>https://p.scdn.co/mp3-preview/05e9e3f61b30cf53...</td>\n",
       "      <td>1</td>\n",
       "      <td>0.810531</td>\n",
       "      <td>0.539416</td>\n",
       "      <td>0.862765</td>\n",
       "      <td>0.045564</td>\n",
       "      <td>0.199798</td>\n",
       "      <td>0.000017</td>\n",
       "      <td>0.239203</td>\n",
       "      <td>...</td>\n",
       "      <td>0</td>\n",
       "      <td>0</td>\n",
       "      <td>0</td>\n",
       "      <td>0</td>\n",
       "      <td>0</td>\n",
       "      <td>2</td>\n",
       "      <td>0</td>\n",
       "      <td>0</td>\n",
       "      <td>0</td>\n",
       "      <td>4</td>\n",
       "    </tr>\n",
       "    <tr>\n",
       "      <th>4</th>\n",
       "      <td>0m2JqPFRwdhFEvTXQNYwmB</td>\n",
       "      <td>https://p.scdn.co/mp3-preview/be8ee0a916639101...</td>\n",
       "      <td>1</td>\n",
       "      <td>0.639788</td>\n",
       "      <td>0.624896</td>\n",
       "      <td>0.847980</td>\n",
       "      <td>0.013018</td>\n",
       "      <td>0.400601</td>\n",
       "      <td>0.000000</td>\n",
       "      <td>0.144518</td>\n",
       "      <td>...</td>\n",
       "      <td>1</td>\n",
       "      <td>0</td>\n",
       "      <td>0</td>\n",
       "      <td>0</td>\n",
       "      <td>0</td>\n",
       "      <td>1</td>\n",
       "      <td>0</td>\n",
       "      <td>0</td>\n",
       "      <td>0</td>\n",
       "      <td>1</td>\n",
       "    </tr>\n",
       "  </tbody>\n",
       "</table>\n",
       "<p>5 rows × 110 columns</p>\n",
       "</div>"
      ],
      "text/plain": [
       "                       id                                        preview_url  \\\n",
       "0  5RG1HRQocUAafoCrGd9lY5  https://p.scdn.co/mp3-preview/f9772fc13fc90d56...   \n",
       "1  5toaXJWnmQCnGRh8eOrEwE  https://p.scdn.co/mp3-preview/23b00769d9f4d4b3...   \n",
       "2  7b7MKh1kOgwASPihOs7vve  https://p.scdn.co/mp3-preview/0269a1cb51256005...   \n",
       "3  5Z3GHaZ6ec9bsiI5BenrbY  https://p.scdn.co/mp3-preview/05e9e3f61b30cf53...   \n",
       "4  0m2JqPFRwdhFEvTXQNYwmB  https://p.scdn.co/mp3-preview/be8ee0a916639101...   \n",
       "\n",
       "   mode  danceability    energy  loudness  speechiness  acousticness  \\\n",
       "0     0      0.444812  0.270910  0.657215     0.036162      0.882530   \n",
       "1     1      0.875523  0.661099  0.818493     0.013983      0.231926   \n",
       "2     0      0.608945  0.602772  0.818604     0.534716      0.358433   \n",
       "3     1      0.810531  0.539416  0.862765     0.045564      0.199798   \n",
       "4     1      0.639788  0.624896  0.847980     0.013018      0.400601   \n",
       "\n",
       "   instrumentalness  liveness  ...  artist_genre_country  artist_genre_dance  \\\n",
       "0          0.000000  0.416944  ...                     0                   0   \n",
       "1          0.000000  0.279070  ...                     3                   0   \n",
       "2          0.000000  0.174419  ...                     0                   0   \n",
       "3          0.000017  0.239203  ...                     0                   0   \n",
       "4          0.000000  0.144518  ...                     1                   0   \n",
       "\n",
       "   artist_genre_hip  artist_genre_hop  artist_genre_metal  artist_genre_pop  \\\n",
       "0                 1                 1                   0                 0   \n",
       "1                 0                 0                   0                 0   \n",
       "2                 0                 0                   0                 0   \n",
       "3                 0                 0                   0                 2   \n",
       "4                 0                 0                   0                 1   \n",
       "\n",
       "   artist_genre_rap  artist_genre_rock  artist_genre_trap  genre  \n",
       "0                 0                  0                  0      5  \n",
       "1                 0                  0                  0      1  \n",
       "2                 0                  0                  0      5  \n",
       "3                 0                  0                  0      4  \n",
       "4                 0                  0                  0      1  \n",
       "\n",
       "[5 rows x 110 columns]"
      ]
     },
     "execution_count": 4,
     "metadata": {},
     "output_type": "execute_result"
    }
   ],
   "source": [
    "df_test.head()"
   ]
  },
  {
   "cell_type": "markdown",
   "metadata": {},
   "source": [
    "###  🧱 Developing the Model"
   ]
  },
  {
   "cell_type": "markdown",
   "metadata": {},
   "source": [
    "We perform feature selection for the Gradient Boosting Classifier, using sklearn's SelectFromModel()."
   ]
  },
  {
   "cell_type": "code",
   "execution_count": 39,
   "metadata": {},
   "outputs": [],
   "source": [
    "gradient = GradientBoostingClassifier()\n",
    "params = { \n",
    "            'loss': ['log_loss'],\n",
    "            'learning_rate': [0.01, 0.05, 0.1],\n",
    "            'n_estimators' : [100, 200, 400],\n",
    "            'criterion' :['friedman_mse', 'squared_error'],\n",
    "            'min_samples_split' :[0.01, 0.05, 0.1],\n",
    "            'max_depth': [3,4,5,6,],\n",
    "            'max_features': ['sqrt', 'log2']\n",
    "        }\n",
    "\n",
    "#Select Features\n",
    "sel = SelectFromModel(gradient)\n",
    "X_train_selected = sel.fit_transform(X_train.iloc[:, 2:], y_train)"
   ]
  },
  {
   "cell_type": "markdown",
   "metadata": {},
   "source": [
    "Next, we perform hyperparameter tuning using GridSearch CV to determine the best model parameters for Gradient Boosting"
   ]
  },
  {
   "cell_type": "code",
   "execution_count": 41,
   "metadata": {},
   "outputs": [
    {
     "name": "stdout",
     "output_type": "stream",
     "text": [
      "Selected Features Length: 18\n",
      "Selected Features: danceability, energy, loudness, speechiness, acousticness, mfcc_1Mean, mfcc_3Mean, mfcc_5Std, mfcc_7Std, spect_centroid_Std, spect_contrast_Mean, artist_genre_contemporary, artist_genre_country, artist_genre_hip, artist_genre_hop, artist_genre_metal, artist_genre_pop, artist_genre_rap\n"
     ]
    },
    {
     "data": {
      "text/html": [
       "<style>#sk-container-id-8 {color: black;background-color: white;}#sk-container-id-8 pre{padding: 0;}#sk-container-id-8 div.sk-toggleable {background-color: white;}#sk-container-id-8 label.sk-toggleable__label {cursor: pointer;display: block;width: 100%;margin-bottom: 0;padding: 0.3em;box-sizing: border-box;text-align: center;}#sk-container-id-8 label.sk-toggleable__label-arrow:before {content: \"▸\";float: left;margin-right: 0.25em;color: #696969;}#sk-container-id-8 label.sk-toggleable__label-arrow:hover:before {color: black;}#sk-container-id-8 div.sk-estimator:hover label.sk-toggleable__label-arrow:before {color: black;}#sk-container-id-8 div.sk-toggleable__content {max-height: 0;max-width: 0;overflow: hidden;text-align: left;background-color: #f0f8ff;}#sk-container-id-8 div.sk-toggleable__content pre {margin: 0.2em;color: black;border-radius: 0.25em;background-color: #f0f8ff;}#sk-container-id-8 input.sk-toggleable__control:checked~div.sk-toggleable__content {max-height: 200px;max-width: 100%;overflow: auto;}#sk-container-id-8 input.sk-toggleable__control:checked~label.sk-toggleable__label-arrow:before {content: \"▾\";}#sk-container-id-8 div.sk-estimator input.sk-toggleable__control:checked~label.sk-toggleable__label {background-color: #d4ebff;}#sk-container-id-8 div.sk-label input.sk-toggleable__control:checked~label.sk-toggleable__label {background-color: #d4ebff;}#sk-container-id-8 input.sk-hidden--visually {border: 0;clip: rect(1px 1px 1px 1px);clip: rect(1px, 1px, 1px, 1px);height: 1px;margin: -1px;overflow: hidden;padding: 0;position: absolute;width: 1px;}#sk-container-id-8 div.sk-estimator {font-family: monospace;background-color: #f0f8ff;border: 1px dotted black;border-radius: 0.25em;box-sizing: border-box;margin-bottom: 0.5em;}#sk-container-id-8 div.sk-estimator:hover {background-color: #d4ebff;}#sk-container-id-8 div.sk-parallel-item::after {content: \"\";width: 100%;border-bottom: 1px solid gray;flex-grow: 1;}#sk-container-id-8 div.sk-label:hover label.sk-toggleable__label {background-color: #d4ebff;}#sk-container-id-8 div.sk-serial::before {content: \"\";position: absolute;border-left: 1px solid gray;box-sizing: border-box;top: 0;bottom: 0;left: 50%;z-index: 0;}#sk-container-id-8 div.sk-serial {display: flex;flex-direction: column;align-items: center;background-color: white;padding-right: 0.2em;padding-left: 0.2em;position: relative;}#sk-container-id-8 div.sk-item {position: relative;z-index: 1;}#sk-container-id-8 div.sk-parallel {display: flex;align-items: stretch;justify-content: center;background-color: white;position: relative;}#sk-container-id-8 div.sk-item::before, #sk-container-id-8 div.sk-parallel-item::before {content: \"\";position: absolute;border-left: 1px solid gray;box-sizing: border-box;top: 0;bottom: 0;left: 50%;z-index: -1;}#sk-container-id-8 div.sk-parallel-item {display: flex;flex-direction: column;z-index: 1;position: relative;background-color: white;}#sk-container-id-8 div.sk-parallel-item:first-child::after {align-self: flex-end;width: 50%;}#sk-container-id-8 div.sk-parallel-item:last-child::after {align-self: flex-start;width: 50%;}#sk-container-id-8 div.sk-parallel-item:only-child::after {width: 0;}#sk-container-id-8 div.sk-dashed-wrapped {border: 1px dashed gray;margin: 0 0.4em 0.5em 0.4em;box-sizing: border-box;padding-bottom: 0.4em;background-color: white;}#sk-container-id-8 div.sk-label label {font-family: monospace;font-weight: bold;display: inline-block;line-height: 1.2em;}#sk-container-id-8 div.sk-label-container {text-align: center;}#sk-container-id-8 div.sk-container {/* jupyter's `normalize.less` sets `[hidden] { display: none; }` but bootstrap.min.css set `[hidden] { display: none !important; }` so we also need the `!important` here to be able to override the default hidden behavior on the sphinx rendered scikit-learn.org. See: https://github.com/scikit-learn/scikit-learn/issues/21755 */display: inline-block !important;position: relative;}#sk-container-id-8 div.sk-text-repr-fallback {display: none;}</style><div id=\"sk-container-id-8\" class=\"sk-top-container\"><div class=\"sk-text-repr-fallback\"><pre>GridSearchCV(cv=5, estimator=GradientBoostingClassifier(), n_jobs=-1,\n",
       "             param_grid={&#x27;criterion&#x27;: [&#x27;friedman_mse&#x27;, &#x27;squared_error&#x27;],\n",
       "                         &#x27;learning_rate&#x27;: [0.01, 0.05, 0.1],\n",
       "                         &#x27;loss&#x27;: [&#x27;log_loss&#x27;], &#x27;max_depth&#x27;: [3, 4, 5, 6],\n",
       "                         &#x27;max_features&#x27;: [&#x27;sqrt&#x27;, &#x27;log2&#x27;],\n",
       "                         &#x27;min_samples_split&#x27;: [0.01, 0.05, 0.1],\n",
       "                         &#x27;n_estimators&#x27;: [100, 200, 400]})</pre><b>In a Jupyter environment, please rerun this cell to show the HTML representation or trust the notebook. <br />On GitHub, the HTML representation is unable to render, please try loading this page with nbviewer.org.</b></div><div class=\"sk-container\" hidden><div class=\"sk-item sk-dashed-wrapped\"><div class=\"sk-label-container\"><div class=\"sk-label sk-toggleable\"><input class=\"sk-toggleable__control sk-hidden--visually\" id=\"sk-estimator-id-16\" type=\"checkbox\" ><label for=\"sk-estimator-id-16\" class=\"sk-toggleable__label sk-toggleable__label-arrow\">GridSearchCV</label><div class=\"sk-toggleable__content\"><pre>GridSearchCV(cv=5, estimator=GradientBoostingClassifier(), n_jobs=-1,\n",
       "             param_grid={&#x27;criterion&#x27;: [&#x27;friedman_mse&#x27;, &#x27;squared_error&#x27;],\n",
       "                         &#x27;learning_rate&#x27;: [0.01, 0.05, 0.1],\n",
       "                         &#x27;loss&#x27;: [&#x27;log_loss&#x27;], &#x27;max_depth&#x27;: [3, 4, 5, 6],\n",
       "                         &#x27;max_features&#x27;: [&#x27;sqrt&#x27;, &#x27;log2&#x27;],\n",
       "                         &#x27;min_samples_split&#x27;: [0.01, 0.05, 0.1],\n",
       "                         &#x27;n_estimators&#x27;: [100, 200, 400]})</pre></div></div></div><div class=\"sk-parallel\"><div class=\"sk-parallel-item\"><div class=\"sk-item\"><div class=\"sk-label-container\"><div class=\"sk-label sk-toggleable\"><input class=\"sk-toggleable__control sk-hidden--visually\" id=\"sk-estimator-id-17\" type=\"checkbox\" ><label for=\"sk-estimator-id-17\" class=\"sk-toggleable__label sk-toggleable__label-arrow\">estimator: GradientBoostingClassifier</label><div class=\"sk-toggleable__content\"><pre>GradientBoostingClassifier()</pre></div></div></div><div class=\"sk-serial\"><div class=\"sk-item\"><div class=\"sk-estimator sk-toggleable\"><input class=\"sk-toggleable__control sk-hidden--visually\" id=\"sk-estimator-id-18\" type=\"checkbox\" ><label for=\"sk-estimator-id-18\" class=\"sk-toggleable__label sk-toggleable__label-arrow\">GradientBoostingClassifier</label><div class=\"sk-toggleable__content\"><pre>GradientBoostingClassifier()</pre></div></div></div></div></div></div></div></div></div></div>"
      ],
      "text/plain": [
       "GridSearchCV(cv=5, estimator=GradientBoostingClassifier(), n_jobs=-1,\n",
       "             param_grid={'criterion': ['friedman_mse', 'squared_error'],\n",
       "                         'learning_rate': [0.01, 0.05, 0.1],\n",
       "                         'loss': ['log_loss'], 'max_depth': [3, 4, 5, 6],\n",
       "                         'max_features': ['sqrt', 'log2'],\n",
       "                         'min_samples_split': [0.01, 0.05, 0.1],\n",
       "                         'n_estimators': [100, 200, 400]})"
      ]
     },
     "execution_count": 41,
     "metadata": {},
     "output_type": "execute_result"
    }
   ],
   "source": [
    "print(\"Selected Features Length:\", len(sel.get_feature_names_out()))\n",
    "print(\"Selected Features:\", \", \".join(sel.get_feature_names_out()))\n",
    "\n",
    "gb_grid = GridSearchCV(estimator = gradient, param_grid = params, cv = 5, n_jobs = -1, verbose=0)\n",
    "# Fit the random search model\n",
    "gb_grid.fit(X_train_selected, y_train)"
   ]
  },
  {
   "cell_type": "code",
   "execution_count": 42,
   "metadata": {},
   "outputs": [
    {
     "data": {
      "text/plain": [
       "{'criterion': 'friedman_mse',\n",
       " 'learning_rate': 0.01,\n",
       " 'loss': 'log_loss',\n",
       " 'max_depth': 6,\n",
       " 'max_features': 'sqrt',\n",
       " 'min_samples_split': 0.1,\n",
       " 'n_estimators': 400}"
      ]
     },
     "execution_count": 42,
     "metadata": {},
     "output_type": "execute_result"
    }
   ],
   "source": [
    "# Best parameters based on GridSearchCV\n",
    "gb_grid.best_params_"
   ]
  },
  {
   "cell_type": "markdown",
   "metadata": {},
   "source": [
    "### 📝 Model Evaluation"
   ]
  },
  {
   "cell_type": "markdown",
   "metadata": {},
   "source": [
    "Create and fit the final Gradient Boosting model based on the hyperparameters found through GridSearchCV above"
   ]
  },
  {
   "cell_type": "code",
   "execution_count": 43,
   "metadata": {},
   "outputs": [
    {
     "data": {
      "text/html": [
       "<style>#sk-container-id-9 {color: black;background-color: white;}#sk-container-id-9 pre{padding: 0;}#sk-container-id-9 div.sk-toggleable {background-color: white;}#sk-container-id-9 label.sk-toggleable__label {cursor: pointer;display: block;width: 100%;margin-bottom: 0;padding: 0.3em;box-sizing: border-box;text-align: center;}#sk-container-id-9 label.sk-toggleable__label-arrow:before {content: \"▸\";float: left;margin-right: 0.25em;color: #696969;}#sk-container-id-9 label.sk-toggleable__label-arrow:hover:before {color: black;}#sk-container-id-9 div.sk-estimator:hover label.sk-toggleable__label-arrow:before {color: black;}#sk-container-id-9 div.sk-toggleable__content {max-height: 0;max-width: 0;overflow: hidden;text-align: left;background-color: #f0f8ff;}#sk-container-id-9 div.sk-toggleable__content pre {margin: 0.2em;color: black;border-radius: 0.25em;background-color: #f0f8ff;}#sk-container-id-9 input.sk-toggleable__control:checked~div.sk-toggleable__content {max-height: 200px;max-width: 100%;overflow: auto;}#sk-container-id-9 input.sk-toggleable__control:checked~label.sk-toggleable__label-arrow:before {content: \"▾\";}#sk-container-id-9 div.sk-estimator input.sk-toggleable__control:checked~label.sk-toggleable__label {background-color: #d4ebff;}#sk-container-id-9 div.sk-label input.sk-toggleable__control:checked~label.sk-toggleable__label {background-color: #d4ebff;}#sk-container-id-9 input.sk-hidden--visually {border: 0;clip: rect(1px 1px 1px 1px);clip: rect(1px, 1px, 1px, 1px);height: 1px;margin: -1px;overflow: hidden;padding: 0;position: absolute;width: 1px;}#sk-container-id-9 div.sk-estimator {font-family: monospace;background-color: #f0f8ff;border: 1px dotted black;border-radius: 0.25em;box-sizing: border-box;margin-bottom: 0.5em;}#sk-container-id-9 div.sk-estimator:hover {background-color: #d4ebff;}#sk-container-id-9 div.sk-parallel-item::after {content: \"\";width: 100%;border-bottom: 1px solid gray;flex-grow: 1;}#sk-container-id-9 div.sk-label:hover label.sk-toggleable__label {background-color: #d4ebff;}#sk-container-id-9 div.sk-serial::before {content: \"\";position: absolute;border-left: 1px solid gray;box-sizing: border-box;top: 0;bottom: 0;left: 50%;z-index: 0;}#sk-container-id-9 div.sk-serial {display: flex;flex-direction: column;align-items: center;background-color: white;padding-right: 0.2em;padding-left: 0.2em;position: relative;}#sk-container-id-9 div.sk-item {position: relative;z-index: 1;}#sk-container-id-9 div.sk-parallel {display: flex;align-items: stretch;justify-content: center;background-color: white;position: relative;}#sk-container-id-9 div.sk-item::before, #sk-container-id-9 div.sk-parallel-item::before {content: \"\";position: absolute;border-left: 1px solid gray;box-sizing: border-box;top: 0;bottom: 0;left: 50%;z-index: -1;}#sk-container-id-9 div.sk-parallel-item {display: flex;flex-direction: column;z-index: 1;position: relative;background-color: white;}#sk-container-id-9 div.sk-parallel-item:first-child::after {align-self: flex-end;width: 50%;}#sk-container-id-9 div.sk-parallel-item:last-child::after {align-self: flex-start;width: 50%;}#sk-container-id-9 div.sk-parallel-item:only-child::after {width: 0;}#sk-container-id-9 div.sk-dashed-wrapped {border: 1px dashed gray;margin: 0 0.4em 0.5em 0.4em;box-sizing: border-box;padding-bottom: 0.4em;background-color: white;}#sk-container-id-9 div.sk-label label {font-family: monospace;font-weight: bold;display: inline-block;line-height: 1.2em;}#sk-container-id-9 div.sk-label-container {text-align: center;}#sk-container-id-9 div.sk-container {/* jupyter's `normalize.less` sets `[hidden] { display: none; }` but bootstrap.min.css set `[hidden] { display: none !important; }` so we also need the `!important` here to be able to override the default hidden behavior on the sphinx rendered scikit-learn.org. See: https://github.com/scikit-learn/scikit-learn/issues/21755 */display: inline-block !important;position: relative;}#sk-container-id-9 div.sk-text-repr-fallback {display: none;}</style><div id=\"sk-container-id-9\" class=\"sk-top-container\"><div class=\"sk-text-repr-fallback\"><pre>GradientBoostingClassifier(learning_rate=0.01, max_depth=6, max_features=&#x27;sqrt&#x27;,\n",
       "                           min_samples_split=0.1, n_estimators=400)</pre><b>In a Jupyter environment, please rerun this cell to show the HTML representation or trust the notebook. <br />On GitHub, the HTML representation is unable to render, please try loading this page with nbviewer.org.</b></div><div class=\"sk-container\" hidden><div class=\"sk-item\"><div class=\"sk-estimator sk-toggleable\"><input class=\"sk-toggleable__control sk-hidden--visually\" id=\"sk-estimator-id-19\" type=\"checkbox\" checked><label for=\"sk-estimator-id-19\" class=\"sk-toggleable__label sk-toggleable__label-arrow\">GradientBoostingClassifier</label><div class=\"sk-toggleable__content\"><pre>GradientBoostingClassifier(learning_rate=0.01, max_depth=6, max_features=&#x27;sqrt&#x27;,\n",
       "                           min_samples_split=0.1, n_estimators=400)</pre></div></div></div></div></div>"
      ],
      "text/plain": [
       "GradientBoostingClassifier(learning_rate=0.01, max_depth=6, max_features='sqrt',\n",
       "                           min_samples_split=0.1, n_estimators=400)"
      ]
     },
     "execution_count": 43,
     "metadata": {},
     "output_type": "execute_result"
    }
   ],
   "source": [
    "gradientBooster = GradientBoostingClassifier(**gb_grid.best_params_)\n",
    "gradientBooster.fit(X_train_selected, y_train)"
   ]
  },
  {
   "cell_type": "markdown",
   "metadata": {},
   "source": [
    "Evaluate the Gradient Boosting Classifier on the test set and determine it's accuracy."
   ]
  },
  {
   "cell_type": "code",
   "execution_count": 44,
   "metadata": {},
   "outputs": [
    {
     "name": "stderr",
     "output_type": "stream",
     "text": [
      "/opt/homebrew/anaconda3/envs/msci446/lib/python3.11/site-packages/sklearn/base.py:432: UserWarning: X has feature names, but GradientBoostingClassifier was fitted without feature names\n",
      "  warnings.warn(\n"
     ]
    },
    {
     "data": {
      "text/plain": [
       "0.838855421686747"
      ]
     },
     "execution_count": 44,
     "metadata": {},
     "output_type": "execute_result"
    }
   ],
   "source": [
    "X_test_selected = X_test[sel.get_feature_names_out()]\n",
    "predictions = gradientBooster.predict(X_test_selected)\n",
    "acc = metrics.accuracy_score(predictions,y_test)\n",
    "acc"
   ]
  },
  {
   "cell_type": "markdown",
   "metadata": {},
   "source": [
    "### 🏁 Model Performance"
   ]
  },
  {
   "cell_type": "markdown",
   "metadata": {},
   "source": [
    "Finally, we generate the confusion matrix and performance metrics to determine our Gradient Boosting Classifier's performance"
   ]
  },
  {
   "cell_type": "code",
   "execution_count": 45,
   "metadata": {},
   "outputs": [
    {
     "data": {
      "text/plain": [
       "<sklearn.metrics._plot.confusion_matrix.ConfusionMatrixDisplay at 0x14d17e950>"
      ]
     },
     "execution_count": 45,
     "metadata": {},
     "output_type": "execute_result"
    },
    {
     "data": {
      "image/png": "[encoded data removed]",
      "text/plain": [
       "<Figure size 640x480 with 2 Axes>"
      ]
     },
     "metadata": {},
     "output_type": "display_data"
    }
   ],
   "source": [
    "labels = ['Classical', 'Country', 'Hip-Hop', 'Metal', 'Pop', 'RnB']\n",
    "matrix = metrics.confusion_matrix(predictions, y_test, labels=gradientBooster.classes_)\n",
    "disp = metrics.ConfusionMatrixDisplay(confusion_matrix=matrix, display_labels=labels)\n",
    "disp.plot()"
   ]
  },
  {
   "cell_type": "code",
   "execution_count": 46,
   "metadata": {},
   "outputs": [
    {
     "name": "stdout",
     "output_type": "stream",
     "text": [
      "              precision    recall  f1-score   support\n",
      "\n",
      "   Classical       0.97      1.00      0.98        64\n",
      "     Country       0.95      0.91      0.93       111\n",
      "     Hip-Hop       0.73      0.88      0.80        85\n",
      "       Metal       0.98      0.99      0.99       118\n",
      "         Pop       0.77      0.72      0.74       159\n",
      "         RnB       0.71      0.68      0.69       127\n",
      "\n",
      "    accuracy                           0.84       664\n",
      "   macro avg       0.85      0.86      0.86       664\n",
      "weighted avg       0.84      0.84      0.84       664\n",
      "\n"
     ]
    }
   ],
   "source": [
    "print(metrics.classification_report(y_test, predictions, target_names=labels))"
   ]
  },
  {
   "cell_type": "markdown",
   "metadata": {},
   "source": [
    "We conclude our analysis by concatenating our prediction and actual labels with the original DataFrame"
   ]
  },
  {
   "cell_type": "code",
   "execution_count": 47,
   "metadata": {},
   "outputs": [
    {
     "data": {
      "text/html": [
       "<div>\n",
       "<style scoped>\n",
       "    .dataframe tbody tr th:only-of-type {\n",
       "        vertical-align: middle;\n",
       "    }\n",
       "\n",
       "    .dataframe tbody tr th {\n",
       "        vertical-align: top;\n",
       "    }\n",
       "\n",
       "    .dataframe thead th {\n",
       "        text-align: right;\n",
       "    }\n",
       "</style>\n",
       "<table border=\"1\" class=\"dataframe\">\n",
       "  <thead>\n",
       "    <tr style=\"text-align: right;\">\n",
       "      <th></th>\n",
       "      <th>id</th>\n",
       "      <th>preview_url</th>\n",
       "      <th>mode</th>\n",
       "      <th>danceability</th>\n",
       "      <th>energy</th>\n",
       "      <th>loudness</th>\n",
       "      <th>speechiness</th>\n",
       "      <th>acousticness</th>\n",
       "      <th>instrumentalness</th>\n",
       "      <th>liveness</th>\n",
       "      <th>...</th>\n",
       "      <th>artist_genre_dance</th>\n",
       "      <th>artist_genre_hip</th>\n",
       "      <th>artist_genre_hop</th>\n",
       "      <th>artist_genre_metal</th>\n",
       "      <th>artist_genre_pop</th>\n",
       "      <th>artist_genre_rap</th>\n",
       "      <th>artist_genre_rock</th>\n",
       "      <th>artist_genre_trap</th>\n",
       "      <th>genre</th>\n",
       "      <th>0</th>\n",
       "    </tr>\n",
       "  </thead>\n",
       "  <tbody>\n",
       "    <tr>\n",
       "      <th>0</th>\n",
       "      <td>5RG1HRQocUAafoCrGd9lY5</td>\n",
       "      <td>https://p.scdn.co/mp3-preview/f9772fc13fc90d56...</td>\n",
       "      <td>0</td>\n",
       "      <td>0.444812</td>\n",
       "      <td>0.270910</td>\n",
       "      <td>0.657215</td>\n",
       "      <td>0.036162</td>\n",
       "      <td>0.882530</td>\n",
       "      <td>0.000000</td>\n",
       "      <td>0.416944</td>\n",
       "      <td>...</td>\n",
       "      <td>0</td>\n",
       "      <td>1</td>\n",
       "      <td>1</td>\n",
       "      <td>0</td>\n",
       "      <td>0</td>\n",
       "      <td>0</td>\n",
       "      <td>0</td>\n",
       "      <td>0</td>\n",
       "      <td>5</td>\n",
       "      <td>5</td>\n",
       "    </tr>\n",
       "    <tr>\n",
       "      <th>1</th>\n",
       "      <td>5toaXJWnmQCnGRh8eOrEwE</td>\n",
       "      <td>https://p.scdn.co/mp3-preview/23b00769d9f4d4b3...</td>\n",
       "      <td>1</td>\n",
       "      <td>0.875523</td>\n",
       "      <td>0.661099</td>\n",
       "      <td>0.818493</td>\n",
       "      <td>0.013983</td>\n",
       "      <td>0.231926</td>\n",
       "      <td>0.000000</td>\n",
       "      <td>0.279070</td>\n",
       "      <td>...</td>\n",
       "      <td>0</td>\n",
       "      <td>0</td>\n",
       "      <td>0</td>\n",
       "      <td>0</td>\n",
       "      <td>0</td>\n",
       "      <td>0</td>\n",
       "      <td>0</td>\n",
       "      <td>0</td>\n",
       "      <td>1</td>\n",
       "      <td>1</td>\n",
       "    </tr>\n",
       "    <tr>\n",
       "      <th>2</th>\n",
       "      <td>7b7MKh1kOgwASPihOs7vve</td>\n",
       "      <td>https://p.scdn.co/mp3-preview/0269a1cb51256005...</td>\n",
       "      <td>0</td>\n",
       "      <td>0.608945</td>\n",
       "      <td>0.602772</td>\n",
       "      <td>0.818604</td>\n",
       "      <td>0.534716</td>\n",
       "      <td>0.358433</td>\n",
       "      <td>0.000000</td>\n",
       "      <td>0.174419</td>\n",
       "      <td>...</td>\n",
       "      <td>0</td>\n",
       "      <td>0</td>\n",
       "      <td>0</td>\n",
       "      <td>0</td>\n",
       "      <td>0</td>\n",
       "      <td>0</td>\n",
       "      <td>0</td>\n",
       "      <td>0</td>\n",
       "      <td>5</td>\n",
       "      <td>5</td>\n",
       "    </tr>\n",
       "    <tr>\n",
       "      <th>3</th>\n",
       "      <td>5Z3GHaZ6ec9bsiI5BenrbY</td>\n",
       "      <td>https://p.scdn.co/mp3-preview/05e9e3f61b30cf53...</td>\n",
       "      <td>1</td>\n",
       "      <td>0.810531</td>\n",
       "      <td>0.539416</td>\n",
       "      <td>0.862765</td>\n",
       "      <td>0.045564</td>\n",
       "      <td>0.199798</td>\n",
       "      <td>0.000017</td>\n",
       "      <td>0.239203</td>\n",
       "      <td>...</td>\n",
       "      <td>0</td>\n",
       "      <td>0</td>\n",
       "      <td>0</td>\n",
       "      <td>0</td>\n",
       "      <td>2</td>\n",
       "      <td>0</td>\n",
       "      <td>0</td>\n",
       "      <td>0</td>\n",
       "      <td>4</td>\n",
       "      <td>4</td>\n",
       "    </tr>\n",
       "    <tr>\n",
       "      <th>4</th>\n",
       "      <td>0m2JqPFRwdhFEvTXQNYwmB</td>\n",
       "      <td>https://p.scdn.co/mp3-preview/be8ee0a916639101...</td>\n",
       "      <td>1</td>\n",
       "      <td>0.639788</td>\n",
       "      <td>0.624896</td>\n",
       "      <td>0.847980</td>\n",
       "      <td>0.013018</td>\n",
       "      <td>0.400601</td>\n",
       "      <td>0.000000</td>\n",
       "      <td>0.144518</td>\n",
       "      <td>...</td>\n",
       "      <td>0</td>\n",
       "      <td>0</td>\n",
       "      <td>0</td>\n",
       "      <td>0</td>\n",
       "      <td>1</td>\n",
       "      <td>0</td>\n",
       "      <td>0</td>\n",
       "      <td>0</td>\n",
       "      <td>1</td>\n",
       "      <td>1</td>\n",
       "    </tr>\n",
       "  </tbody>\n",
       "</table>\n",
       "<p>5 rows × 111 columns</p>\n",
       "</div>"
      ],
      "text/plain": [
       "                       id                                        preview_url  \\\n",
       "0  5RG1HRQocUAafoCrGd9lY5  https://p.scdn.co/mp3-preview/f9772fc13fc90d56...   \n",
       "1  5toaXJWnmQCnGRh8eOrEwE  https://p.scdn.co/mp3-preview/23b00769d9f4d4b3...   \n",
       "2  7b7MKh1kOgwASPihOs7vve  https://p.scdn.co/mp3-preview/0269a1cb51256005...   \n",
       "3  5Z3GHaZ6ec9bsiI5BenrbY  https://p.scdn.co/mp3-preview/05e9e3f61b30cf53...   \n",
       "4  0m2JqPFRwdhFEvTXQNYwmB  https://p.scdn.co/mp3-preview/be8ee0a916639101...   \n",
       "\n",
       "   mode  danceability    energy  loudness  speechiness  acousticness  \\\n",
       "0     0      0.444812  0.270910  0.657215     0.036162      0.882530   \n",
       "1     1      0.875523  0.661099  0.818493     0.013983      0.231926   \n",
       "2     0      0.608945  0.602772  0.818604     0.534716      0.358433   \n",
       "3     1      0.810531  0.539416  0.862765     0.045564      0.199798   \n",
       "4     1      0.639788  0.624896  0.847980     0.013018      0.400601   \n",
       "\n",
       "   instrumentalness  liveness  ...  artist_genre_dance  artist_genre_hip  \\\n",
       "0          0.000000  0.416944  ...                   0                 1   \n",
       "1          0.000000  0.279070  ...                   0                 0   \n",
       "2          0.000000  0.174419  ...                   0                 0   \n",
       "3          0.000017  0.239203  ...                   0                 0   \n",
       "4          0.000000  0.144518  ...                   0                 0   \n",
       "\n",
       "   artist_genre_hop  artist_genre_metal  artist_genre_pop  artist_genre_rap  \\\n",
       "0                 1                   0                 0                 0   \n",
       "1                 0                   0                 0                 0   \n",
       "2                 0                   0                 0                 0   \n",
       "3                 0                   0                 2                 0   \n",
       "4                 0                   0                 1                 0   \n",
       "\n",
       "   artist_genre_rock  artist_genre_trap  genre  0  \n",
       "0                  0                  0      5  5  \n",
       "1                  0                  0      1  1  \n",
       "2                  0                  0      5  5  \n",
       "3                  0                  0      4  4  \n",
       "4                  0                  0      1  1  \n",
       "\n",
       "[5 rows x 111 columns]"
      ]
     },
     "execution_count": 47,
     "metadata": {},
     "output_type": "execute_result"
    }
   ],
   "source": [
    "predictions = pd.DataFrame(predictions)\n",
    "actual = pd.DataFrame(y_test)\n",
    "results = pd.concat([X_test.reset_index(drop=True), actual.reset_index(drop=True), predictions.reset_index(drop=True)], axis=1)\n",
    "results.head()"
   ]
  },
  {
   "cell_type": "markdown",
   "metadata": {},
   "source": [
    "# 📈 Random Forest Classifier"
   ]
  },
  {
   "cell_type": "markdown",
   "metadata": {},
   "source": [
    "This notebook provides a thorough analysis of the Random Forest classifier, employing it to address our music genre classification challenge."
   ]
  },
  {
   "cell_type": "code",
   "execution_count": 5,
   "metadata": {},
   "outputs": [],
   "source": [
    "from sklearn.model_selection import GridSearchCV, train_test_split, RandomizedSearchCV, StratifiedKFold\n",
    "from sklearn.feature_selection import SelectFromModel, SequentialFeatureSelector\n",
    "from sklearn.ensemble import RandomForestClassifier\n",
    "from sklearn.preprocessing import LabelEncoder, LabelBinarizer, label_binarize\n",
    "from sklearn import metrics \n",
    "from sklearn.metrics import RocCurveDisplay\n",
    "\n",
    "import matplotlib.pyplot as plt\n",
    "import numpy as np\n",
    "import pandas as pd"
   ]
  },
  {
   "cell_type": "markdown",
   "metadata": {},
   "source": [
    "We start by loading the stratified data that has been split into the train and test splits respectively."
   ]
  },
  {
   "cell_type": "code",
   "execution_count": 6,
   "metadata": {},
   "outputs": [
    {
     "data": {
      "text/html": [
       "<div>\n",
       "<style scoped>\n",
       "    .dataframe tbody tr th:only-of-type {\n",
       "        vertical-align: middle;\n",
       "    }\n",
       "\n",
       "    .dataframe tbody tr th {\n",
       "        vertical-align: top;\n",
       "    }\n",
       "\n",
       "    .dataframe thead th {\n",
       "        text-align: right;\n",
       "    }\n",
       "</style>\n",
       "<table border=\"1\" class=\"dataframe\">\n",
       "  <thead>\n",
       "    <tr style=\"text-align: right;\">\n",
       "      <th></th>\n",
       "      <th>id</th>\n",
       "      <th>preview_url</th>\n",
       "      <th>mode</th>\n",
       "      <th>danceability</th>\n",
       "      <th>energy</th>\n",
       "      <th>loudness</th>\n",
       "      <th>speechiness</th>\n",
       "      <th>acousticness</th>\n",
       "      <th>instrumentalness</th>\n",
       "      <th>liveness</th>\n",
       "      <th>...</th>\n",
       "      <th>artist_genre_country</th>\n",
       "      <th>artist_genre_dance</th>\n",
       "      <th>artist_genre_hip</th>\n",
       "      <th>artist_genre_hop</th>\n",
       "      <th>artist_genre_metal</th>\n",
       "      <th>artist_genre_pop</th>\n",
       "      <th>artist_genre_rap</th>\n",
       "      <th>artist_genre_rock</th>\n",
       "      <th>artist_genre_trap</th>\n",
       "      <th>genre</th>\n",
       "    </tr>\n",
       "  </thead>\n",
       "  <tbody>\n",
       "    <tr>\n",
       "      <th>0</th>\n",
       "      <td>15wos7ChIkysPIrX31hwwa</td>\n",
       "      <td>https://p.scdn.co/mp3-preview/6ee63d690b1d66aa...</td>\n",
       "      <td>1</td>\n",
       "      <td>0.570390</td>\n",
       "      <td>0.609811</td>\n",
       "      <td>0.889349</td>\n",
       "      <td>0.077387</td>\n",
       "      <td>0.033733</td>\n",
       "      <td>0.000466</td>\n",
       "      <td>0.142857</td>\n",
       "      <td>...</td>\n",
       "      <td>0</td>\n",
       "      <td>0</td>\n",
       "      <td>2</td>\n",
       "      <td>1</td>\n",
       "      <td>0</td>\n",
       "      <td>2</td>\n",
       "      <td>1</td>\n",
       "      <td>0</td>\n",
       "      <td>0</td>\n",
       "      <td>4</td>\n",
       "    </tr>\n",
       "    <tr>\n",
       "      <th>1</th>\n",
       "      <td>7csz4sW8pAL4M378czLtlD</td>\n",
       "      <td>https://p.scdn.co/mp3-preview/b3a469eb989d29b9...</td>\n",
       "      <td>0</td>\n",
       "      <td>0.464640</td>\n",
       "      <td>0.969831</td>\n",
       "      <td>0.951197</td>\n",
       "      <td>0.163211</td>\n",
       "      <td>0.000232</td>\n",
       "      <td>0.000000</td>\n",
       "      <td>0.252492</td>\n",
       "      <td>...</td>\n",
       "      <td>0</td>\n",
       "      <td>0</td>\n",
       "      <td>0</td>\n",
       "      <td>0</td>\n",
       "      <td>2</td>\n",
       "      <td>0</td>\n",
       "      <td>0</td>\n",
       "      <td>2</td>\n",
       "      <td>0</td>\n",
       "      <td>3</td>\n",
       "    </tr>\n",
       "    <tr>\n",
       "      <th>2</th>\n",
       "      <td>3EG9FJ0ToLfgnc1IG2Z1wz</td>\n",
       "      <td>https://p.scdn.co/mp3-preview/d82ed534bd9772e1...</td>\n",
       "      <td>1</td>\n",
       "      <td>0.445913</td>\n",
       "      <td>0.653054</td>\n",
       "      <td>0.902531</td>\n",
       "      <td>0.118129</td>\n",
       "      <td>0.334336</td>\n",
       "      <td>0.000325</td>\n",
       "      <td>0.878738</td>\n",
       "      <td>...</td>\n",
       "      <td>0</td>\n",
       "      <td>0</td>\n",
       "      <td>1</td>\n",
       "      <td>1</td>\n",
       "      <td>0</td>\n",
       "      <td>0</td>\n",
       "      <td>1</td>\n",
       "      <td>0</td>\n",
       "      <td>0</td>\n",
       "      <td>5</td>\n",
       "    </tr>\n",
       "    <tr>\n",
       "      <th>3</th>\n",
       "      <td>0f37VQs969vZUL4gVfHRV9</td>\n",
       "      <td>https://p.scdn.co/mp3-preview/ab5bc6e257c6a5a4...</td>\n",
       "      <td>1</td>\n",
       "      <td>0.537343</td>\n",
       "      <td>0.941673</td>\n",
       "      <td>0.889847</td>\n",
       "      <td>0.356316</td>\n",
       "      <td>0.001725</td>\n",
       "      <td>0.000245</td>\n",
       "      <td>0.146179</td>\n",
       "      <td>...</td>\n",
       "      <td>0</td>\n",
       "      <td>0</td>\n",
       "      <td>0</td>\n",
       "      <td>0</td>\n",
       "      <td>1</td>\n",
       "      <td>0</td>\n",
       "      <td>0</td>\n",
       "      <td>0</td>\n",
       "      <td>0</td>\n",
       "      <td>3</td>\n",
       "    </tr>\n",
       "    <tr>\n",
       "      <th>4</th>\n",
       "      <td>42ZVk59gT4tMlrZmd8Ijxf</td>\n",
       "      <td>https://p.scdn.co/mp3-preview/ce96eec80fbfd784...</td>\n",
       "      <td>1</td>\n",
       "      <td>0.402952</td>\n",
       "      <td>0.968825</td>\n",
       "      <td>0.911015</td>\n",
       "      <td>0.120781</td>\n",
       "      <td>0.000208</td>\n",
       "      <td>0.126919</td>\n",
       "      <td>0.581395</td>\n",
       "      <td>...</td>\n",
       "      <td>0</td>\n",
       "      <td>0</td>\n",
       "      <td>0</td>\n",
       "      <td>0</td>\n",
       "      <td>3</td>\n",
       "      <td>0</td>\n",
       "      <td>1</td>\n",
       "      <td>1</td>\n",
       "      <td>0</td>\n",
       "      <td>3</td>\n",
       "    </tr>\n",
       "  </tbody>\n",
       "</table>\n",
       "<p>5 rows × 110 columns</p>\n",
       "</div>"
      ],
      "text/plain": [
       "                       id                                        preview_url  \\\n",
       "0  15wos7ChIkysPIrX31hwwa  https://p.scdn.co/mp3-preview/6ee63d690b1d66aa...   \n",
       "1  7csz4sW8pAL4M378czLtlD  https://p.scdn.co/mp3-preview/b3a469eb989d29b9...   \n",
       "2  3EG9FJ0ToLfgnc1IG2Z1wz  https://p.scdn.co/mp3-preview/d82ed534bd9772e1...   \n",
       "3  0f37VQs969vZUL4gVfHRV9  https://p.scdn.co/mp3-preview/ab5bc6e257c6a5a4...   \n",
       "4  42ZVk59gT4tMlrZmd8Ijxf  https://p.scdn.co/mp3-preview/ce96eec80fbfd784...   \n",
       "\n",
       "   mode  danceability    energy  loudness  speechiness  acousticness  \\\n",
       "0     1      0.570390  0.609811  0.889349     0.077387      0.033733   \n",
       "1     0      0.464640  0.969831  0.951197     0.163211      0.000232   \n",
       "2     1      0.445913  0.653054  0.902531     0.118129      0.334336   \n",
       "3     1      0.537343  0.941673  0.889847     0.356316      0.001725   \n",
       "4     1      0.402952  0.968825  0.911015     0.120781      0.000208   \n",
       "\n",
       "   instrumentalness  liveness  ...  artist_genre_country  artist_genre_dance  \\\n",
       "0          0.000466  0.142857  ...                     0                   0   \n",
       "1          0.000000  0.252492  ...                     0                   0   \n",
       "2          0.000325  0.878738  ...                     0                   0   \n",
       "3          0.000245  0.146179  ...                     0                   0   \n",
       "4          0.126919  0.581395  ...                     0                   0   \n",
       "\n",
       "   artist_genre_hip  artist_genre_hop  artist_genre_metal  artist_genre_pop  \\\n",
       "0                 2                 1                   0                 2   \n",
       "1                 0                 0                   2                 0   \n",
       "2                 1                 1                   0                 0   \n",
       "3                 0                 0                   1                 0   \n",
       "4                 0                 0                   3                 0   \n",
       "\n",
       "   artist_genre_rap  artist_genre_rock  artist_genre_trap  genre  \n",
       "0                 1                  0                  0      4  \n",
       "1                 0                  2                  0      3  \n",
       "2                 1                  0                  0      5  \n",
       "3                 0                  0                  0      3  \n",
       "4                 1                  1                  0      3  \n",
       "\n",
       "[5 rows x 110 columns]"
      ]
     },
     "execution_count": 6,
     "metadata": {},
     "output_type": "execute_result"
    }
   ],
   "source": [
    "df_train = pd.read_csv('data/train.csv')\n",
    "df_test = pd.read_csv('data/test.csv')\n",
    "X_train = df_train.iloc[:,:-1]\n",
    "y_train = df_train['genre']\n",
    "X_test = df_test.iloc[:,:-1]\n",
    "y_test = df_test['genre']\n",
    "df_train.head()"
   ]
  },
  {
   "cell_type": "markdown",
   "metadata": {},
   "source": [
    "Shows the features (columns) that are part of our dataset."
   ]
  },
  {
   "cell_type": "code",
   "execution_count": 15,
   "metadata": {},
   "outputs": [
    {
     "data": {
      "text/plain": [
       "Index(['id', 'preview_url', 'mode', 'danceability', 'energy', 'loudness',\n",
       "       'speechiness', 'acousticness', 'instrumentalness', 'liveness',\n",
       "       ...\n",
       "       'artist_genre_country', 'artist_genre_dance', 'artist_genre_hip',\n",
       "       'artist_genre_hop', 'artist_genre_metal', 'artist_genre_pop',\n",
       "       'artist_genre_rap', 'artist_genre_rock', 'artist_genre_trap', 'genre'],\n",
       "      dtype='object', length=110)"
      ]
     },
     "execution_count": 15,
     "metadata": {},
     "output_type": "execute_result"
    }
   ],
   "source": [
    "df_train.columns"
   ]
  },
  {
   "cell_type": "markdown",
   "metadata": {},
   "source": [
    "### 🧱 Developing the Model"
   ]
  },
  {
   "cell_type": "markdown",
   "metadata": {},
   "source": [
    "Feature selection for the random forest classifier, using SelectFromModel()."
   ]
  },
  {
   "cell_type": "code",
   "execution_count": 16,
   "metadata": {},
   "outputs": [
    {
     "name": "stdout",
     "output_type": "stream",
     "text": [
      "Selected Features Length: 34\n",
      "Selected Features: danceability, energy, loudness, speechiness, acousticness, mfcc_1Mean, mfcc_1Std, mfcc_2Mean, mfcc_2Std, mfcc_3Mean, mfcc_3Std, mfcc_4Std, mfcc_5Std, mfcc_6Std, mfcc_7Std, mfcc_8Std, mfcc_10Std, zero_cross_Mean, spect_centroid_Mean, spect_centroid_Std, spect_contrast_Mean, spect_contrast_Std, spect_bw_Mean, spect_bw_Std, spect_rolloff_Mean, spect_rolloff_Std, artist_genre_classical, artist_genre_contemporary, artist_genre_country, artist_genre_hip, artist_genre_hop, artist_genre_metal, artist_genre_pop, artist_genre_rap\n"
     ]
    }
   ],
   "source": [
    "forest = RandomForestClassifier()\n",
    "params = { \n",
    "            'n_estimators': [100,150, 200, 250],\n",
    "            'max_features': ['auto','log2'],\n",
    "            'max_depth' : [5,6,7,8,9],\n",
    "            'min_samples_split' :[0.01, 0.05, 0.1],\n",
    "        }\n",
    "        \n",
    "# Select features\n",
    "sel = SelectFromModel(forest)\n",
    "X_train_selected = sel.fit_transform(X_train.iloc[:, 2:], y_train)\n",
    "print(\"Selected Features Length:\", len(sel.get_feature_names_out()))\n",
    "print(\"Selected Features:\", \", \".join(sel.get_feature_names_out()))"
   ]
  },
  {
   "cell_type": "markdown",
   "metadata": {},
   "source": [
    "Call GridSearch CV to determine the best hyperparameters for the model"
   ]
  },
  {
   "cell_type": "code",
   "execution_count": null,
   "metadata": {},
   "outputs": [],
   "source": [
    "# Grid Search CV\n",
    "rf_gridcv = GridSearchCV(estimator = forest, param_grid = params, cv = 5, n_jobs = -1)\n",
    "# Fit the GridSearchCV model\n",
    "rf_gridcv.fit(X_train_selected, y_train)"
   ]
  },
  {
   "cell_type": "code",
   "execution_count": 18,
   "metadata": {},
   "outputs": [
    {
     "data": {
      "text/plain": [
       "{'max_depth': 9,\n",
       " 'max_features': 'auto',\n",
       " 'min_samples_split': 0.01,\n",
       " 'n_estimators': 250}"
      ]
     },
     "execution_count": 18,
     "metadata": {},
     "output_type": "execute_result"
    }
   ],
   "source": [
    "# Best parameters based on GridSearchCV\n",
    "rf_gridcv.best_params_"
   ]
  },
  {
   "cell_type": "markdown",
   "metadata": {},
   "source": [
    "### 📝 Model Evaluation"
   ]
  },
  {
   "cell_type": "markdown",
   "metadata": {},
   "source": [
    "Create and fit the final model based on the hyperparameters found through GridSearchCV"
   ]
  },
  {
   "cell_type": "code",
   "execution_count": 19,
   "metadata": {},
   "outputs": [
    {
     "name": "stderr",
     "output_type": "stream",
     "text": [
      "/opt/homebrew/anaconda3/envs/msci446/lib/python3.11/site-packages/sklearn/ensemble/_forest.py:424: FutureWarning: `max_features='auto'` has been deprecated in 1.1 and will be removed in 1.3. To keep the past behaviour, explicitly set `max_features='sqrt'` or remove this parameter as it is also the default value for RandomForestClassifiers and ExtraTreesClassifiers.\n",
      "  warn(\n"
     ]
    },
    {
     "data": {
      "text/html": [
       "<style>#sk-container-id-4 {color: black;background-color: white;}#sk-container-id-4 pre{padding: 0;}#sk-container-id-4 div.sk-toggleable {background-color: white;}#sk-container-id-4 label.sk-toggleable__label {cursor: pointer;display: block;width: 100%;margin-bottom: 0;padding: 0.3em;box-sizing: border-box;text-align: center;}#sk-container-id-4 label.sk-toggleable__label-arrow:before {content: \"▸\";float: left;margin-right: 0.25em;color: #696969;}#sk-container-id-4 label.sk-toggleable__label-arrow:hover:before {color: black;}#sk-container-id-4 div.sk-estimator:hover label.sk-toggleable__label-arrow:before {color: black;}#sk-container-id-4 div.sk-toggleable__content {max-height: 0;max-width: 0;overflow: hidden;text-align: left;background-color: #f0f8ff;}#sk-container-id-4 div.sk-toggleable__content pre {margin: 0.2em;color: black;border-radius: 0.25em;background-color: #f0f8ff;}#sk-container-id-4 input.sk-toggleable__control:checked~div.sk-toggleable__content {max-height: 200px;max-width: 100%;overflow: auto;}#sk-container-id-4 input.sk-toggleable__control:checked~label.sk-toggleable__label-arrow:before {content: \"▾\";}#sk-container-id-4 div.sk-estimator input.sk-toggleable__control:checked~label.sk-toggleable__label {background-color: #d4ebff;}#sk-container-id-4 div.sk-label input.sk-toggleable__control:checked~label.sk-toggleable__label {background-color: #d4ebff;}#sk-container-id-4 input.sk-hidden--visually {border: 0;clip: rect(1px 1px 1px 1px);clip: rect(1px, 1px, 1px, 1px);height: 1px;margin: -1px;overflow: hidden;padding: 0;position: absolute;width: 1px;}#sk-container-id-4 div.sk-estimator {font-family: monospace;background-color: #f0f8ff;border: 1px dotted black;border-radius: 0.25em;box-sizing: border-box;margin-bottom: 0.5em;}#sk-container-id-4 div.sk-estimator:hover {background-color: #d4ebff;}#sk-container-id-4 div.sk-parallel-item::after {content: \"\";width: 100%;border-bottom: 1px solid gray;flex-grow: 1;}#sk-container-id-4 div.sk-label:hover label.sk-toggleable__label {background-color: #d4ebff;}#sk-container-id-4 div.sk-serial::before {content: \"\";position: absolute;border-left: 1px solid gray;box-sizing: border-box;top: 0;bottom: 0;left: 50%;z-index: 0;}#sk-container-id-4 div.sk-serial {display: flex;flex-direction: column;align-items: center;background-color: white;padding-right: 0.2em;padding-left: 0.2em;position: relative;}#sk-container-id-4 div.sk-item {position: relative;z-index: 1;}#sk-container-id-4 div.sk-parallel {display: flex;align-items: stretch;justify-content: center;background-color: white;position: relative;}#sk-container-id-4 div.sk-item::before, #sk-container-id-4 div.sk-parallel-item::before {content: \"\";position: absolute;border-left: 1px solid gray;box-sizing: border-box;top: 0;bottom: 0;left: 50%;z-index: -1;}#sk-container-id-4 div.sk-parallel-item {display: flex;flex-direction: column;z-index: 1;position: relative;background-color: white;}#sk-container-id-4 div.sk-parallel-item:first-child::after {align-self: flex-end;width: 50%;}#sk-container-id-4 div.sk-parallel-item:last-child::after {align-self: flex-start;width: 50%;}#sk-container-id-4 div.sk-parallel-item:only-child::after {width: 0;}#sk-container-id-4 div.sk-dashed-wrapped {border: 1px dashed gray;margin: 0 0.4em 0.5em 0.4em;box-sizing: border-box;padding-bottom: 0.4em;background-color: white;}#sk-container-id-4 div.sk-label label {font-family: monospace;font-weight: bold;display: inline-block;line-height: 1.2em;}#sk-container-id-4 div.sk-label-container {text-align: center;}#sk-container-id-4 div.sk-container {/* jupyter's `normalize.less` sets `[hidden] { display: none; }` but bootstrap.min.css set `[hidden] { display: none !important; }` so we also need the `!important` here to be able to override the default hidden behavior on the sphinx rendered scikit-learn.org. See: https://github.com/scikit-learn/scikit-learn/issues/21755 */display: inline-block !important;position: relative;}#sk-container-id-4 div.sk-text-repr-fallback {display: none;}</style><div id=\"sk-container-id-4\" class=\"sk-top-container\"><div class=\"sk-text-repr-fallback\"><pre>RandomForestClassifier(max_depth=9, max_features=&#x27;auto&#x27;, min_samples_split=0.01,\n",
       "                       n_estimators=250)</pre><b>In a Jupyter environment, please rerun this cell to show the HTML representation or trust the notebook. <br />On GitHub, the HTML representation is unable to render, please try loading this page with nbviewer.org.</b></div><div class=\"sk-container\" hidden><div class=\"sk-item\"><div class=\"sk-estimator sk-toggleable\"><input class=\"sk-toggleable__control sk-hidden--visually\" id=\"sk-estimator-id-8\" type=\"checkbox\" checked><label for=\"sk-estimator-id-8\" class=\"sk-toggleable__label sk-toggleable__label-arrow\">RandomForestClassifier</label><div class=\"sk-toggleable__content\"><pre>RandomForestClassifier(max_depth=9, max_features=&#x27;auto&#x27;, min_samples_split=0.01,\n",
       "                       n_estimators=250)</pre></div></div></div></div></div>"
      ],
      "text/plain": [
       "RandomForestClassifier(max_depth=9, max_features='auto', min_samples_split=0.01,\n",
       "                       n_estimators=250)"
      ]
     },
     "execution_count": 19,
     "metadata": {},
     "output_type": "execute_result"
    }
   ],
   "source": [
    "# Final model\n",
    "final_forest = RandomForestClassifier(**rf_gridcv.best_params_)\n",
    "final_forest.fit(X_train_selected, y_train)"
   ]
  },
  {
   "cell_type": "markdown",
   "metadata": {},
   "source": [
    "Evaluate the model on the test set and determine it's accuracy."
   ]
  },
  {
   "cell_type": "code",
   "execution_count": 20,
   "metadata": {},
   "outputs": [
    {
     "name": "stderr",
     "output_type": "stream",
     "text": [
      "/opt/homebrew/anaconda3/envs/msci446/lib/python3.11/site-packages/sklearn/base.py:432: UserWarning: X has feature names, but RandomForestClassifier was fitted without feature names\n",
      "  warnings.warn(\n"
     ]
    },
    {
     "data": {
      "text/plain": [
       "0.8313253012048193"
      ]
     },
     "execution_count": 20,
     "metadata": {},
     "output_type": "execute_result"
    }
   ],
   "source": [
    "X_test_selected = X_test[sel.get_feature_names_out()]\n",
    "predictions = final_forest.predict(X_test_selected)\n",
    "acc = metrics.accuracy_score(predictions,y_test)\n",
    "acc"
   ]
  },
  {
   "cell_type": "markdown",
   "metadata": {},
   "source": [
    "### 🏁 Model Performance"
   ]
  },
  {
   "cell_type": "code",
   "execution_count": 21,
   "metadata": {},
   "outputs": [
    {
     "data": {
      "text/plain": [
       "<sklearn.metrics._plot.confusion_matrix.ConfusionMatrixDisplay at 0x12c9f5d10>"
      ]
     },
     "execution_count": 21,
     "metadata": {},
     "output_type": "execute_result"
    },
    {
     "data": {
      "image/png": "[encoded data removed]",
      "text/plain": [
       "<Figure size 640x480 with 2 Axes>"
      ]
     },
     "metadata": {},
     "output_type": "display_data"
    }
   ],
   "source": [
    "labels = ['Classical', 'Country', 'Hip-Hop', 'Metal', 'Pop', 'RnB']\n",
    "matrix = metrics.confusion_matrix(predictions, y_test, labels=final_forest.classes_)\n",
    "disp = metrics.ConfusionMatrixDisplay(confusion_matrix=matrix, display_labels=labels)\n",
    "disp.plot()"
   ]
  },
  {
   "cell_type": "code",
   "execution_count": 22,
   "metadata": {},
   "outputs": [
    {
     "name": "stdout",
     "output_type": "stream",
     "text": [
      "              precision    recall  f1-score   support\n",
      "\n",
      "   Classical       1.00      1.00      1.00        64\n",
      "     Country       0.98      0.88      0.93       111\n",
      "     Hip-Hop       0.73      0.85      0.79        85\n",
      "       Metal       0.98      0.99      0.99       118\n",
      "         Pop       0.72      0.73      0.73       159\n",
      "         RnB       0.70      0.67      0.68       127\n",
      "\n",
      "    accuracy                           0.83       664\n",
      "   macro avg       0.85      0.85      0.85       664\n",
      "weighted avg       0.83      0.83      0.83       664\n",
      "\n"
     ]
    }
   ],
   "source": [
    "print(metrics.classification_report(y_test, predictions, target_names=labels))"
   ]
  },
  {
   "cell_type": "markdown",
   "metadata": {},
   "source": [
    "Concatenate predictions and actual labels to data"
   ]
  },
  {
   "cell_type": "code",
   "execution_count": 34,
   "metadata": {},
   "outputs": [
    {
     "data": {
      "text/html": [
       "<div>\n",
       "<style scoped>\n",
       "    .dataframe tbody tr th:only-of-type {\n",
       "        vertical-align: middle;\n",
       "    }\n",
       "\n",
       "    .dataframe tbody tr th {\n",
       "        vertical-align: top;\n",
       "    }\n",
       "\n",
       "    .dataframe thead th {\n",
       "        text-align: right;\n",
       "    }\n",
       "</style>\n",
       "<table border=\"1\" class=\"dataframe\">\n",
       "  <thead>\n",
       "    <tr style=\"text-align: right;\">\n",
       "      <th></th>\n",
       "      <th>id</th>\n",
       "      <th>preview_url</th>\n",
       "      <th>mode</th>\n",
       "      <th>danceability</th>\n",
       "      <th>energy</th>\n",
       "      <th>loudness</th>\n",
       "      <th>speechiness</th>\n",
       "      <th>acousticness</th>\n",
       "      <th>instrumentalness</th>\n",
       "      <th>liveness</th>\n",
       "      <th>...</th>\n",
       "      <th>artist_genre_dance</th>\n",
       "      <th>artist_genre_hip</th>\n",
       "      <th>artist_genre_hop</th>\n",
       "      <th>artist_genre_metal</th>\n",
       "      <th>artist_genre_pop</th>\n",
       "      <th>artist_genre_rap</th>\n",
       "      <th>artist_genre_rock</th>\n",
       "      <th>artist_genre_trap</th>\n",
       "      <th>genre</th>\n",
       "      <th>0</th>\n",
       "    </tr>\n",
       "  </thead>\n",
       "  <tbody>\n",
       "    <tr>\n",
       "      <th>0</th>\n",
       "      <td>5RG1HRQocUAafoCrGd9lY5</td>\n",
       "      <td>https://p.scdn.co/mp3-preview/f9772fc13fc90d56...</td>\n",
       "      <td>0</td>\n",
       "      <td>0.444812</td>\n",
       "      <td>0.270910</td>\n",
       "      <td>0.657215</td>\n",
       "      <td>0.036162</td>\n",
       "      <td>0.882530</td>\n",
       "      <td>0.000000</td>\n",
       "      <td>0.416944</td>\n",
       "      <td>...</td>\n",
       "      <td>0</td>\n",
       "      <td>1</td>\n",
       "      <td>1</td>\n",
       "      <td>0</td>\n",
       "      <td>0</td>\n",
       "      <td>0</td>\n",
       "      <td>0</td>\n",
       "      <td>0</td>\n",
       "      <td>5</td>\n",
       "      <td>5</td>\n",
       "    </tr>\n",
       "    <tr>\n",
       "      <th>1</th>\n",
       "      <td>5toaXJWnmQCnGRh8eOrEwE</td>\n",
       "      <td>https://p.scdn.co/mp3-preview/23b00769d9f4d4b3...</td>\n",
       "      <td>1</td>\n",
       "      <td>0.875523</td>\n",
       "      <td>0.661099</td>\n",
       "      <td>0.818493</td>\n",
       "      <td>0.013983</td>\n",
       "      <td>0.231926</td>\n",
       "      <td>0.000000</td>\n",
       "      <td>0.279070</td>\n",
       "      <td>...</td>\n",
       "      <td>0</td>\n",
       "      <td>0</td>\n",
       "      <td>0</td>\n",
       "      <td>0</td>\n",
       "      <td>0</td>\n",
       "      <td>0</td>\n",
       "      <td>0</td>\n",
       "      <td>0</td>\n",
       "      <td>1</td>\n",
       "      <td>1</td>\n",
       "    </tr>\n",
       "    <tr>\n",
       "      <th>2</th>\n",
       "      <td>7b7MKh1kOgwASPihOs7vve</td>\n",
       "      <td>https://p.scdn.co/mp3-preview/0269a1cb51256005...</td>\n",
       "      <td>0</td>\n",
       "      <td>0.608945</td>\n",
       "      <td>0.602772</td>\n",
       "      <td>0.818604</td>\n",
       "      <td>0.534716</td>\n",
       "      <td>0.358433</td>\n",
       "      <td>0.000000</td>\n",
       "      <td>0.174419</td>\n",
       "      <td>...</td>\n",
       "      <td>0</td>\n",
       "      <td>0</td>\n",
       "      <td>0</td>\n",
       "      <td>0</td>\n",
       "      <td>0</td>\n",
       "      <td>0</td>\n",
       "      <td>0</td>\n",
       "      <td>0</td>\n",
       "      <td>5</td>\n",
       "      <td>5</td>\n",
       "    </tr>\n",
       "    <tr>\n",
       "      <th>3</th>\n",
       "      <td>5Z3GHaZ6ec9bsiI5BenrbY</td>\n",
       "      <td>https://p.scdn.co/mp3-preview/05e9e3f61b30cf53...</td>\n",
       "      <td>1</td>\n",
       "      <td>0.810531</td>\n",
       "      <td>0.539416</td>\n",
       "      <td>0.862765</td>\n",
       "      <td>0.045564</td>\n",
       "      <td>0.199798</td>\n",
       "      <td>0.000017</td>\n",
       "      <td>0.239203</td>\n",
       "      <td>...</td>\n",
       "      <td>0</td>\n",
       "      <td>0</td>\n",
       "      <td>0</td>\n",
       "      <td>0</td>\n",
       "      <td>2</td>\n",
       "      <td>0</td>\n",
       "      <td>0</td>\n",
       "      <td>0</td>\n",
       "      <td>4</td>\n",
       "      <td>4</td>\n",
       "    </tr>\n",
       "    <tr>\n",
       "      <th>4</th>\n",
       "      <td>0m2JqPFRwdhFEvTXQNYwmB</td>\n",
       "      <td>https://p.scdn.co/mp3-preview/be8ee0a916639101...</td>\n",
       "      <td>1</td>\n",
       "      <td>0.639788</td>\n",
       "      <td>0.624896</td>\n",
       "      <td>0.847980</td>\n",
       "      <td>0.013018</td>\n",
       "      <td>0.400601</td>\n",
       "      <td>0.000000</td>\n",
       "      <td>0.144518</td>\n",
       "      <td>...</td>\n",
       "      <td>0</td>\n",
       "      <td>0</td>\n",
       "      <td>0</td>\n",
       "      <td>0</td>\n",
       "      <td>1</td>\n",
       "      <td>0</td>\n",
       "      <td>0</td>\n",
       "      <td>0</td>\n",
       "      <td>1</td>\n",
       "      <td>1</td>\n",
       "    </tr>\n",
       "  </tbody>\n",
       "</table>\n",
       "<p>5 rows × 111 columns</p>\n",
       "</div>"
      ],
      "text/plain": [
       "                       id                                        preview_url  \\\n",
       "0  5RG1HRQocUAafoCrGd9lY5  https://p.scdn.co/mp3-preview/f9772fc13fc90d56...   \n",
       "1  5toaXJWnmQCnGRh8eOrEwE  https://p.scdn.co/mp3-preview/23b00769d9f4d4b3...   \n",
       "2  7b7MKh1kOgwASPihOs7vve  https://p.scdn.co/mp3-preview/0269a1cb51256005...   \n",
       "3  5Z3GHaZ6ec9bsiI5BenrbY  https://p.scdn.co/mp3-preview/05e9e3f61b30cf53...   \n",
       "4  0m2JqPFRwdhFEvTXQNYwmB  https://p.scdn.co/mp3-preview/be8ee0a916639101...   \n",
       "\n",
       "   mode  danceability    energy  loudness  speechiness  acousticness  \\\n",
       "0     0      0.444812  0.270910  0.657215     0.036162      0.882530   \n",
       "1     1      0.875523  0.661099  0.818493     0.013983      0.231926   \n",
       "2     0      0.608945  0.602772  0.818604     0.534716      0.358433   \n",
       "3     1      0.810531  0.539416  0.862765     0.045564      0.199798   \n",
       "4     1      0.639788  0.624896  0.847980     0.013018      0.400601   \n",
       "\n",
       "   instrumentalness  liveness  ...  artist_genre_dance  artist_genre_hip  \\\n",
       "0          0.000000  0.416944  ...                   0                 1   \n",
       "1          0.000000  0.279070  ...                   0                 0   \n",
       "2          0.000000  0.174419  ...                   0                 0   \n",
       "3          0.000017  0.239203  ...                   0                 0   \n",
       "4          0.000000  0.144518  ...                   0                 0   \n",
       "\n",
       "   artist_genre_hop  artist_genre_metal  artist_genre_pop  artist_genre_rap  \\\n",
       "0                 1                   0                 0                 0   \n",
       "1                 0                   0                 0                 0   \n",
       "2                 0                   0                 0                 0   \n",
       "3                 0                   0                 2                 0   \n",
       "4                 0                   0                 1                 0   \n",
       "\n",
       "   artist_genre_rock  artist_genre_trap  genre  0  \n",
       "0                  0                  0      5  5  \n",
       "1                  0                  0      1  1  \n",
       "2                  0                  0      5  5  \n",
       "3                  0                  0      4  4  \n",
       "4                  0                  0      1  1  \n",
       "\n",
       "[5 rows x 111 columns]"
      ]
     },
     "execution_count": 34,
     "metadata": {},
     "output_type": "execute_result"
    }
   ],
   "source": [
    "predictions = pd.DataFrame(predictions)\n",
    "actual = pd.DataFrame(y_test)\n",
    "results = pd.concat([X_test.reset_index(drop=True), actual.reset_index(drop=True), predictions.reset_index(drop=True)], axis=1)\n",
    "results.head()"
   ]
  },
  {
   "cell_type": "markdown",
   "metadata": {},
   "source": [
    "#  📈 Support Vector Machine (SVM)"
   ]
  },
  {
   "cell_type": "markdown",
   "metadata": {},
   "source": [
    "This notebook provides a thorough analysis of the SVM model, employing it to address our music genre classification challenge."
   ]
  },
  {
   "cell_type": "code",
   "execution_count": 3,
   "metadata": {},
   "outputs": [],
   "source": [
    "from sklearn import svm\n",
    "import pandas as pd\n",
    "import numpy as np\n",
    "import matplotlib.pyplot as plt\n",
    "from sklearn.model_selection import GridSearchCV, train_test_split, RandomizedSearchCV, StratifiedKFold\n",
    "from sklearn.preprocessing import OrdinalEncoder\n",
    "from sklearn import metrics \n",
    "from sklearn.preprocessing import StandardScaler, LabelBinarizer\n",
    "from sklearn.feature_selection import SelectFromModel, SequentialFeatureSelector\n",
    "from sklearn.svm import SVC\n",
    "\n",
    "import numpy as np\n",
    "import pandas as pd"
   ]
  },
  {
   "cell_type": "markdown",
   "metadata": {},
   "source": [
    "We start by loading the stratified data that has been split into the train and test splits respectively."
   ]
  },
  {
   "cell_type": "code",
   "execution_count": 4,
   "metadata": {},
   "outputs": [
    {
     "data": {
      "text/html": [
       "<div>\n",
       "<style scoped>\n",
       "    .dataframe tbody tr th:only-of-type {\n",
       "        vertical-align: middle;\n",
       "    }\n",
       "\n",
       "    .dataframe tbody tr th {\n",
       "        vertical-align: top;\n",
       "    }\n",
       "\n",
       "    .dataframe thead th {\n",
       "        text-align: right;\n",
       "    }\n",
       "</style>\n",
       "<table border=\"1\" class=\"dataframe\">\n",
       "  <thead>\n",
       "    <tr style=\"text-align: right;\">\n",
       "      <th></th>\n",
       "      <th>id</th>\n",
       "      <th>preview_url</th>\n",
       "      <th>mode</th>\n",
       "      <th>danceability</th>\n",
       "      <th>energy</th>\n",
       "      <th>loudness</th>\n",
       "      <th>speechiness</th>\n",
       "      <th>acousticness</th>\n",
       "      <th>instrumentalness</th>\n",
       "      <th>liveness</th>\n",
       "      <th>...</th>\n",
       "      <th>artist_genre_country</th>\n",
       "      <th>artist_genre_dance</th>\n",
       "      <th>artist_genre_hip</th>\n",
       "      <th>artist_genre_hop</th>\n",
       "      <th>artist_genre_metal</th>\n",
       "      <th>artist_genre_pop</th>\n",
       "      <th>artist_genre_rap</th>\n",
       "      <th>artist_genre_rock</th>\n",
       "      <th>artist_genre_trap</th>\n",
       "      <th>genre</th>\n",
       "    </tr>\n",
       "  </thead>\n",
       "  <tbody>\n",
       "    <tr>\n",
       "      <th>0</th>\n",
       "      <td>15wos7ChIkysPIrX31hwwa</td>\n",
       "      <td>https://p.scdn.co/mp3-preview/6ee63d690b1d66aa...</td>\n",
       "      <td>1</td>\n",
       "      <td>0.570390</td>\n",
       "      <td>0.609811</td>\n",
       "      <td>0.889349</td>\n",
       "      <td>0.077387</td>\n",
       "      <td>0.033733</td>\n",
       "      <td>0.000466</td>\n",
       "      <td>0.142857</td>\n",
       "      <td>...</td>\n",
       "      <td>0</td>\n",
       "      <td>0</td>\n",
       "      <td>2</td>\n",
       "      <td>1</td>\n",
       "      <td>0</td>\n",
       "      <td>2</td>\n",
       "      <td>1</td>\n",
       "      <td>0</td>\n",
       "      <td>0</td>\n",
       "      <td>4</td>\n",
       "    </tr>\n",
       "    <tr>\n",
       "      <th>1</th>\n",
       "      <td>7csz4sW8pAL4M378czLtlD</td>\n",
       "      <td>https://p.scdn.co/mp3-preview/b3a469eb989d29b9...</td>\n",
       "      <td>0</td>\n",
       "      <td>0.464640</td>\n",
       "      <td>0.969831</td>\n",
       "      <td>0.951197</td>\n",
       "      <td>0.163211</td>\n",
       "      <td>0.000232</td>\n",
       "      <td>0.000000</td>\n",
       "      <td>0.252492</td>\n",
       "      <td>...</td>\n",
       "      <td>0</td>\n",
       "      <td>0</td>\n",
       "      <td>0</td>\n",
       "      <td>0</td>\n",
       "      <td>2</td>\n",
       "      <td>0</td>\n",
       "      <td>0</td>\n",
       "      <td>2</td>\n",
       "      <td>0</td>\n",
       "      <td>3</td>\n",
       "    </tr>\n",
       "    <tr>\n",
       "      <th>2</th>\n",
       "      <td>3EG9FJ0ToLfgnc1IG2Z1wz</td>\n",
       "      <td>https://p.scdn.co/mp3-preview/d82ed534bd9772e1...</td>\n",
       "      <td>1</td>\n",
       "      <td>0.445913</td>\n",
       "      <td>0.653054</td>\n",
       "      <td>0.902531</td>\n",
       "      <td>0.118129</td>\n",
       "      <td>0.334336</td>\n",
       "      <td>0.000325</td>\n",
       "      <td>0.878738</td>\n",
       "      <td>...</td>\n",
       "      <td>0</td>\n",
       "      <td>0</td>\n",
       "      <td>1</td>\n",
       "      <td>1</td>\n",
       "      <td>0</td>\n",
       "      <td>0</td>\n",
       "      <td>1</td>\n",
       "      <td>0</td>\n",
       "      <td>0</td>\n",
       "      <td>5</td>\n",
       "    </tr>\n",
       "    <tr>\n",
       "      <th>3</th>\n",
       "      <td>0f37VQs969vZUL4gVfHRV9</td>\n",
       "      <td>https://p.scdn.co/mp3-preview/ab5bc6e257c6a5a4...</td>\n",
       "      <td>1</td>\n",
       "      <td>0.537343</td>\n",
       "      <td>0.941673</td>\n",
       "      <td>0.889847</td>\n",
       "      <td>0.356316</td>\n",
       "      <td>0.001725</td>\n",
       "      <td>0.000245</td>\n",
       "      <td>0.146179</td>\n",
       "      <td>...</td>\n",
       "      <td>0</td>\n",
       "      <td>0</td>\n",
       "      <td>0</td>\n",
       "      <td>0</td>\n",
       "      <td>1</td>\n",
       "      <td>0</td>\n",
       "      <td>0</td>\n",
       "      <td>0</td>\n",
       "      <td>0</td>\n",
       "      <td>3</td>\n",
       "    </tr>\n",
       "    <tr>\n",
       "      <th>4</th>\n",
       "      <td>42ZVk59gT4tMlrZmd8Ijxf</td>\n",
       "      <td>https://p.scdn.co/mp3-preview/ce96eec80fbfd784...</td>\n",
       "      <td>1</td>\n",
       "      <td>0.402952</td>\n",
       "      <td>0.968825</td>\n",
       "      <td>0.911015</td>\n",
       "      <td>0.120781</td>\n",
       "      <td>0.000208</td>\n",
       "      <td>0.126919</td>\n",
       "      <td>0.581395</td>\n",
       "      <td>...</td>\n",
       "      <td>0</td>\n",
       "      <td>0</td>\n",
       "      <td>0</td>\n",
       "      <td>0</td>\n",
       "      <td>3</td>\n",
       "      <td>0</td>\n",
       "      <td>1</td>\n",
       "      <td>1</td>\n",
       "      <td>0</td>\n",
       "      <td>3</td>\n",
       "    </tr>\n",
       "  </tbody>\n",
       "</table>\n",
       "<p>5 rows × 110 columns</p>\n",
       "</div>"
      ],
      "text/plain": [
       "                       id                                        preview_url  \\\n",
       "0  15wos7ChIkysPIrX31hwwa  https://p.scdn.co/mp3-preview/6ee63d690b1d66aa...   \n",
       "1  7csz4sW8pAL4M378czLtlD  https://p.scdn.co/mp3-preview/b3a469eb989d29b9...   \n",
       "2  3EG9FJ0ToLfgnc1IG2Z1wz  https://p.scdn.co/mp3-preview/d82ed534bd9772e1...   \n",
       "3  0f37VQs969vZUL4gVfHRV9  https://p.scdn.co/mp3-preview/ab5bc6e257c6a5a4...   \n",
       "4  42ZVk59gT4tMlrZmd8Ijxf  https://p.scdn.co/mp3-preview/ce96eec80fbfd784...   \n",
       "\n",
       "   mode  danceability    energy  loudness  speechiness  acousticness  \\\n",
       "0     1      0.570390  0.609811  0.889349     0.077387      0.033733   \n",
       "1     0      0.464640  0.969831  0.951197     0.163211      0.000232   \n",
       "2     1      0.445913  0.653054  0.902531     0.118129      0.334336   \n",
       "3     1      0.537343  0.941673  0.889847     0.356316      0.001725   \n",
       "4     1      0.402952  0.968825  0.911015     0.120781      0.000208   \n",
       "\n",
       "   instrumentalness  liveness  ...  artist_genre_country  artist_genre_dance  \\\n",
       "0          0.000466  0.142857  ...                     0                   0   \n",
       "1          0.000000  0.252492  ...                     0                   0   \n",
       "2          0.000325  0.878738  ...                     0                   0   \n",
       "3          0.000245  0.146179  ...                     0                   0   \n",
       "4          0.126919  0.581395  ...                     0                   0   \n",
       "\n",
       "   artist_genre_hip  artist_genre_hop  artist_genre_metal  artist_genre_pop  \\\n",
       "0                 2                 1                   0                 2   \n",
       "1                 0                 0                   2                 0   \n",
       "2                 1                 1                   0                 0   \n",
       "3                 0                 0                   1                 0   \n",
       "4                 0                 0                   3                 0   \n",
       "\n",
       "   artist_genre_rap  artist_genre_rock  artist_genre_trap  genre  \n",
       "0                 1                  0                  0      4  \n",
       "1                 0                  2                  0      3  \n",
       "2                 1                  0                  0      5  \n",
       "3                 0                  0                  0      3  \n",
       "4                 1                  1                  0      3  \n",
       "\n",
       "[5 rows x 110 columns]"
      ]
     },
     "execution_count": 4,
     "metadata": {},
     "output_type": "execute_result"
    }
   ],
   "source": [
    "df_train = pd.read_csv('data/train.csv')\n",
    "df_test = pd.read_csv('data/test.csv')\n",
    "X_train = df_train.iloc[:,:-1]\n",
    "y_train = df_train['genre']\n",
    "X_test = df_test.iloc[:,:-1]\n",
    "y_test = df_test['genre']\n",
    "df_train.head()"
   ]
  },
  {
   "cell_type": "markdown",
   "metadata": {},
   "source": [
    "### 🧱 Developing the Model"
   ]
  },
  {
   "cell_type": "markdown",
   "metadata": {},
   "source": [
    "We perform feature selection for the SVM model, using sklearn's SelectFromModel()."
   ]
  },
  {
   "cell_type": "code",
   "execution_count": 26,
   "metadata": {},
   "outputs": [
    {
     "name": "stdout",
     "output_type": "stream",
     "text": [
      "Selected Features Length: (2652, 44)\n",
      "Selected Features Length: 44\n",
      "Selected Features: mode, danceability, energy, loudness, speechiness, acousticness, instrumentalness, liveness, valence, tempo, mfcc_1Mean, mfcc_1Std, mfcc_2Std, mfcc_3Mean, mfcc_4Std, mfcc_5Std, mfcc_6Mean, mfcc_7Mean, mfcc_7Std, mfcc_8Mean, mfcc_9Mean, mfcc_10Std, mfcc_12Mean, chroma_2Mean, chroma_3Mean, chroma_5Std, chroma_6Mean, chroma_6Std, chroma_8Mean, chroma_9Mean, chroma_9Std, chroma_10Mean, chroma_11Std, chroma_12Std, tonal_4Std, tonal_5Std, zero_cross_Mean, spect_centroid_Std, spect_contrast_Mean, spect_contrast_Std, artist_genre_contemporary, artist_genre_country, artist_genre_metal, artist_genre_pop\n"
     ]
    }
   ],
   "source": [
    "clf = svm.SVC(kernel='linear')\n",
    "\n",
    "params = {\n",
    "    'C': [0.1, 1, 10, 100, 1000],\n",
    "    'gamma': [1, 0.1, 0.01, 0.001, 0.0001]\n",
    "}  \n",
    "\n",
    "sel = SelectFromModel(clf)\n",
    "\n",
    "X_train_selected = sel.fit_transform(X_train.iloc[:, 2:], y_train)\n",
    "\n",
    "print(\"Selected Features Length:\", X_train_selected.shape)\n",
    "print(\"Selected Features Length:\", len(sel.get_feature_names_out()))\n",
    "print(\"Selected Features:\", \", \".join(sel.get_feature_names_out()))"
   ]
  },
  {
   "cell_type": "markdown",
   "metadata": {},
   "source": [
    "Next, we perform hyperparameter tuning using GridSearch CV to determine the best model parameters for SVM"
   ]
  },
  {
   "cell_type": "code",
   "execution_count": 27,
   "metadata": {},
   "outputs": [
    {
     "data": {
      "text/html": [
       "<style>#sk-container-id-5 {color: black;background-color: white;}#sk-container-id-5 pre{padding: 0;}#sk-container-id-5 div.sk-toggleable {background-color: white;}#sk-container-id-5 label.sk-toggleable__label {cursor: pointer;display: block;width: 100%;margin-bottom: 0;padding: 0.3em;box-sizing: border-box;text-align: center;}#sk-container-id-5 label.sk-toggleable__label-arrow:before {content: \"▸\";float: left;margin-right: 0.25em;color: #696969;}#sk-container-id-5 label.sk-toggleable__label-arrow:hover:before {color: black;}#sk-container-id-5 div.sk-estimator:hover label.sk-toggleable__label-arrow:before {color: black;}#sk-container-id-5 div.sk-toggleable__content {max-height: 0;max-width: 0;overflow: hidden;text-align: left;background-color: #f0f8ff;}#sk-container-id-5 div.sk-toggleable__content pre {margin: 0.2em;color: black;border-radius: 0.25em;background-color: #f0f8ff;}#sk-container-id-5 input.sk-toggleable__control:checked~div.sk-toggleable__content {max-height: 200px;max-width: 100%;overflow: auto;}#sk-container-id-5 input.sk-toggleable__control:checked~label.sk-toggleable__label-arrow:before {content: \"▾\";}#sk-container-id-5 div.sk-estimator input.sk-toggleable__control:checked~label.sk-toggleable__label {background-color: #d4ebff;}#sk-container-id-5 div.sk-label input.sk-toggleable__control:checked~label.sk-toggleable__label {background-color: #d4ebff;}#sk-container-id-5 input.sk-hidden--visually {border: 0;clip: rect(1px 1px 1px 1px);clip: rect(1px, 1px, 1px, 1px);height: 1px;margin: -1px;overflow: hidden;padding: 0;position: absolute;width: 1px;}#sk-container-id-5 div.sk-estimator {font-family: monospace;background-color: #f0f8ff;border: 1px dotted black;border-radius: 0.25em;box-sizing: border-box;margin-bottom: 0.5em;}#sk-container-id-5 div.sk-estimator:hover {background-color: #d4ebff;}#sk-container-id-5 div.sk-parallel-item::after {content: \"\";width: 100%;border-bottom: 1px solid gray;flex-grow: 1;}#sk-container-id-5 div.sk-label:hover label.sk-toggleable__label {background-color: #d4ebff;}#sk-container-id-5 div.sk-serial::before {content: \"\";position: absolute;border-left: 1px solid gray;box-sizing: border-box;top: 0;bottom: 0;left: 50%;z-index: 0;}#sk-container-id-5 div.sk-serial {display: flex;flex-direction: column;align-items: center;background-color: white;padding-right: 0.2em;padding-left: 0.2em;position: relative;}#sk-container-id-5 div.sk-item {position: relative;z-index: 1;}#sk-container-id-5 div.sk-parallel {display: flex;align-items: stretch;justify-content: center;background-color: white;position: relative;}#sk-container-id-5 div.sk-item::before, #sk-container-id-5 div.sk-parallel-item::before {content: \"\";position: absolute;border-left: 1px solid gray;box-sizing: border-box;top: 0;bottom: 0;left: 50%;z-index: -1;}#sk-container-id-5 div.sk-parallel-item {display: flex;flex-direction: column;z-index: 1;position: relative;background-color: white;}#sk-container-id-5 div.sk-parallel-item:first-child::after {align-self: flex-end;width: 50%;}#sk-container-id-5 div.sk-parallel-item:last-child::after {align-self: flex-start;width: 50%;}#sk-container-id-5 div.sk-parallel-item:only-child::after {width: 0;}#sk-container-id-5 div.sk-dashed-wrapped {border: 1px dashed gray;margin: 0 0.4em 0.5em 0.4em;box-sizing: border-box;padding-bottom: 0.4em;background-color: white;}#sk-container-id-5 div.sk-label label {font-family: monospace;font-weight: bold;display: inline-block;line-height: 1.2em;}#sk-container-id-5 div.sk-label-container {text-align: center;}#sk-container-id-5 div.sk-container {/* jupyter's `normalize.less` sets `[hidden] { display: none; }` but bootstrap.min.css set `[hidden] { display: none !important; }` so we also need the `!important` here to be able to override the default hidden behavior on the sphinx rendered scikit-learn.org. See: https://github.com/scikit-learn/scikit-learn/issues/21755 */display: inline-block !important;position: relative;}#sk-container-id-5 div.sk-text-repr-fallback {display: none;}</style><div id=\"sk-container-id-5\" class=\"sk-top-container\"><div class=\"sk-text-repr-fallback\"><pre>GridSearchCV(cv=5, estimator=SVC(kernel=&#x27;linear&#x27;), n_jobs=-1,\n",
       "             param_grid={&#x27;C&#x27;: [0.1, 1, 10, 100, 1000],\n",
       "                         &#x27;gamma&#x27;: [1, 0.1, 0.01, 0.001, 0.0001]})</pre><b>In a Jupyter environment, please rerun this cell to show the HTML representation or trust the notebook. <br />On GitHub, the HTML representation is unable to render, please try loading this page with nbviewer.org.</b></div><div class=\"sk-container\" hidden><div class=\"sk-item sk-dashed-wrapped\"><div class=\"sk-label-container\"><div class=\"sk-label sk-toggleable\"><input class=\"sk-toggleable__control sk-hidden--visually\" id=\"sk-estimator-id-9\" type=\"checkbox\" ><label for=\"sk-estimator-id-9\" class=\"sk-toggleable__label sk-toggleable__label-arrow\">GridSearchCV</label><div class=\"sk-toggleable__content\"><pre>GridSearchCV(cv=5, estimator=SVC(kernel=&#x27;linear&#x27;), n_jobs=-1,\n",
       "             param_grid={&#x27;C&#x27;: [0.1, 1, 10, 100, 1000],\n",
       "                         &#x27;gamma&#x27;: [1, 0.1, 0.01, 0.001, 0.0001]})</pre></div></div></div><div class=\"sk-parallel\"><div class=\"sk-parallel-item\"><div class=\"sk-item\"><div class=\"sk-label-container\"><div class=\"sk-label sk-toggleable\"><input class=\"sk-toggleable__control sk-hidden--visually\" id=\"sk-estimator-id-10\" type=\"checkbox\" ><label for=\"sk-estimator-id-10\" class=\"sk-toggleable__label sk-toggleable__label-arrow\">estimator: SVC</label><div class=\"sk-toggleable__content\"><pre>SVC(kernel=&#x27;linear&#x27;)</pre></div></div></div><div class=\"sk-serial\"><div class=\"sk-item\"><div class=\"sk-estimator sk-toggleable\"><input class=\"sk-toggleable__control sk-hidden--visually\" id=\"sk-estimator-id-11\" type=\"checkbox\" ><label for=\"sk-estimator-id-11\" class=\"sk-toggleable__label sk-toggleable__label-arrow\">SVC</label><div class=\"sk-toggleable__content\"><pre>SVC(kernel=&#x27;linear&#x27;)</pre></div></div></div></div></div></div></div></div></div></div>"
      ],
      "text/plain": [
       "GridSearchCV(cv=5, estimator=SVC(kernel='linear'), n_jobs=-1,\n",
       "             param_grid={'C': [0.1, 1, 10, 100, 1000],\n",
       "                         'gamma': [1, 0.1, 0.01, 0.001, 0.0001]})"
      ]
     },
     "execution_count": 27,
     "metadata": {},
     "output_type": "execute_result"
    }
   ],
   "source": [
    "# Grid Search CV\n",
    "svm_grid = GridSearchCV(estimator = clf, param_grid = params, cv = 5, n_jobs = -1)\n",
    "# Fit the GridSearchCV model\n",
    "svm_grid.fit(X_train_selected, y_train)"
   ]
  },
  {
   "cell_type": "code",
   "execution_count": 28,
   "metadata": {},
   "outputs": [
    {
     "data": {
      "text/plain": [
       "{'C': 1, 'gamma': 1}"
      ]
     },
     "execution_count": 28,
     "metadata": {},
     "output_type": "execute_result"
    }
   ],
   "source": [
    "# Best parameters based on GridSearchCV\n",
    "svm_grid.best_params_"
   ]
  },
  {
   "cell_type": "markdown",
   "metadata": {},
   "source": [
    "### 📝 Model Evaluation"
   ]
  },
  {
   "cell_type": "markdown",
   "metadata": {},
   "source": [
    "Create and fit the final SVM model based on the hyperparameters found through GridSearchCV above"
   ]
  },
  {
   "cell_type": "code",
   "execution_count": 29,
   "metadata": {},
   "outputs": [
    {
     "data": {
      "text/html": [
       "<style>#sk-container-id-6 {color: black;background-color: white;}#sk-container-id-6 pre{padding: 0;}#sk-container-id-6 div.sk-toggleable {background-color: white;}#sk-container-id-6 label.sk-toggleable__label {cursor: pointer;display: block;width: 100%;margin-bottom: 0;padding: 0.3em;box-sizing: border-box;text-align: center;}#sk-container-id-6 label.sk-toggleable__label-arrow:before {content: \"▸\";float: left;margin-right: 0.25em;color: #696969;}#sk-container-id-6 label.sk-toggleable__label-arrow:hover:before {color: black;}#sk-container-id-6 div.sk-estimator:hover label.sk-toggleable__label-arrow:before {color: black;}#sk-container-id-6 div.sk-toggleable__content {max-height: 0;max-width: 0;overflow: hidden;text-align: left;background-color: #f0f8ff;}#sk-container-id-6 div.sk-toggleable__content pre {margin: 0.2em;color: black;border-radius: 0.25em;background-color: #f0f8ff;}#sk-container-id-6 input.sk-toggleable__control:checked~div.sk-toggleable__content {max-height: 200px;max-width: 100%;overflow: auto;}#sk-container-id-6 input.sk-toggleable__control:checked~label.sk-toggleable__label-arrow:before {content: \"▾\";}#sk-container-id-6 div.sk-estimator input.sk-toggleable__control:checked~label.sk-toggleable__label {background-color: #d4ebff;}#sk-container-id-6 div.sk-label input.sk-toggleable__control:checked~label.sk-toggleable__label {background-color: #d4ebff;}#sk-container-id-6 input.sk-hidden--visually {border: 0;clip: rect(1px 1px 1px 1px);clip: rect(1px, 1px, 1px, 1px);height: 1px;margin: -1px;overflow: hidden;padding: 0;position: absolute;width: 1px;}#sk-container-id-6 div.sk-estimator {font-family: monospace;background-color: #f0f8ff;border: 1px dotted black;border-radius: 0.25em;box-sizing: border-box;margin-bottom: 0.5em;}#sk-container-id-6 div.sk-estimator:hover {background-color: #d4ebff;}#sk-container-id-6 div.sk-parallel-item::after {content: \"\";width: 100%;border-bottom: 1px solid gray;flex-grow: 1;}#sk-container-id-6 div.sk-label:hover label.sk-toggleable__label {background-color: #d4ebff;}#sk-container-id-6 div.sk-serial::before {content: \"\";position: absolute;border-left: 1px solid gray;box-sizing: border-box;top: 0;bottom: 0;left: 50%;z-index: 0;}#sk-container-id-6 div.sk-serial {display: flex;flex-direction: column;align-items: center;background-color: white;padding-right: 0.2em;padding-left: 0.2em;position: relative;}#sk-container-id-6 div.sk-item {position: relative;z-index: 1;}#sk-container-id-6 div.sk-parallel {display: flex;align-items: stretch;justify-content: center;background-color: white;position: relative;}#sk-container-id-6 div.sk-item::before, #sk-container-id-6 div.sk-parallel-item::before {content: \"\";position: absolute;border-left: 1px solid gray;box-sizing: border-box;top: 0;bottom: 0;left: 50%;z-index: -1;}#sk-container-id-6 div.sk-parallel-item {display: flex;flex-direction: column;z-index: 1;position: relative;background-color: white;}#sk-container-id-6 div.sk-parallel-item:first-child::after {align-self: flex-end;width: 50%;}#sk-container-id-6 div.sk-parallel-item:last-child::after {align-self: flex-start;width: 50%;}#sk-container-id-6 div.sk-parallel-item:only-child::after {width: 0;}#sk-container-id-6 div.sk-dashed-wrapped {border: 1px dashed gray;margin: 0 0.4em 0.5em 0.4em;box-sizing: border-box;padding-bottom: 0.4em;background-color: white;}#sk-container-id-6 div.sk-label label {font-family: monospace;font-weight: bold;display: inline-block;line-height: 1.2em;}#sk-container-id-6 div.sk-label-container {text-align: center;}#sk-container-id-6 div.sk-container {/* jupyter's `normalize.less` sets `[hidden] { display: none; }` but bootstrap.min.css set `[hidden] { display: none !important; }` so we also need the `!important` here to be able to override the default hidden behavior on the sphinx rendered scikit-learn.org. See: https://github.com/scikit-learn/scikit-learn/issues/21755 */display: inline-block !important;position: relative;}#sk-container-id-6 div.sk-text-repr-fallback {display: none;}</style><div id=\"sk-container-id-6\" class=\"sk-top-container\"><div class=\"sk-text-repr-fallback\"><pre>SVC(C=1, gamma=1, kernel=&#x27;linear&#x27;)</pre><b>In a Jupyter environment, please rerun this cell to show the HTML representation or trust the notebook. <br />On GitHub, the HTML representation is unable to render, please try loading this page with nbviewer.org.</b></div><div class=\"sk-container\" hidden><div class=\"sk-item\"><div class=\"sk-estimator sk-toggleable\"><input class=\"sk-toggleable__control sk-hidden--visually\" id=\"sk-estimator-id-12\" type=\"checkbox\" checked><label for=\"sk-estimator-id-12\" class=\"sk-toggleable__label sk-toggleable__label-arrow\">SVC</label><div class=\"sk-toggleable__content\"><pre>SVC(C=1, gamma=1, kernel=&#x27;linear&#x27;)</pre></div></div></div></div></div>"
      ],
      "text/plain": [
       "SVC(C=1, gamma=1, kernel='linear')"
      ]
     },
     "execution_count": 29,
     "metadata": {},
     "output_type": "execute_result"
    }
   ],
   "source": [
    "svm_grid.best_params_['kernel'] = 'linear'\n",
    "final_svm = svm.SVC(**svm_grid.best_params_)\n",
    "final_svm.fit(X_train_selected, y_train)"
   ]
  },
  {
   "cell_type": "markdown",
   "metadata": {},
   "source": [
    "Evaluate the SVM model on the test set and determine it's accuracy."
   ]
  },
  {
   "cell_type": "code",
   "execution_count": 30,
   "metadata": {},
   "outputs": [
    {
     "name": "stderr",
     "output_type": "stream",
     "text": [
      "/opt/homebrew/anaconda3/envs/msci446/lib/python3.11/site-packages/sklearn/base.py:432: UserWarning: X has feature names, but SVC was fitted without feature names\n",
      "  warnings.warn(\n"
     ]
    },
    {
     "data": {
      "text/plain": [
       "0.8599397590361446"
      ]
     },
     "execution_count": 30,
     "metadata": {},
     "output_type": "execute_result"
    }
   ],
   "source": [
    "X_test_selected = X_test[sel.get_feature_names_out()]\n",
    "predictions = final_svm.predict(X_test_selected)\n",
    "acc = metrics.accuracy_score(predictions, y_test)\n",
    "acc"
   ]
  },
  {
   "cell_type": "markdown",
   "metadata": {},
   "source": [
    "### 🏁 Model Performance"
   ]
  },
  {
   "cell_type": "markdown",
   "metadata": {},
   "source": [
    "Finally, we generate the confusion matrix and performance metrics to determine our SVM model's performance"
   ]
  },
  {
   "cell_type": "code",
   "execution_count": 31,
   "metadata": {},
   "outputs": [
    {
     "data": {
      "text/plain": [
       "<sklearn.metrics._plot.confusion_matrix.ConfusionMatrixDisplay at 0x17fe87610>"
      ]
     },
     "execution_count": 31,
     "metadata": {},
     "output_type": "execute_result"
    },
    {
     "data": {
      "image/png": "[encoded data removed]",
      "text/plain": [
       "<Figure size 640x480 with 2 Axes>"
      ]
     },
     "metadata": {},
     "output_type": "display_data"
    }
   ],
   "source": [
    "labels = ['Classical', 'Country', 'Hip-Hop', 'Metal', 'Pop', 'RnB']\n",
    "matrix = metrics.confusion_matrix(predictions, y_test, labels=final_svm.classes_)\n",
    "disp = metrics.ConfusionMatrixDisplay(confusion_matrix=matrix, display_labels=labels)\n",
    "disp.plot()"
   ]
  },
  {
   "cell_type": "code",
   "execution_count": 32,
   "metadata": {},
   "outputs": [
    {
     "name": "stdout",
     "output_type": "stream",
     "text": [
      "              precision    recall  f1-score   support\n",
      "\n",
      "   Classical       1.00      1.00      1.00        64\n",
      "     Country       0.93      0.95      0.94       111\n",
      "     Hip-Hop       0.76      0.92      0.83        85\n",
      "       Metal       0.98      0.98      0.98       118\n",
      "         Pop       0.79      0.73      0.76       159\n",
      "         RnB       0.76      0.72      0.74       127\n",
      "\n",
      "    accuracy                           0.86       664\n",
      "   macro avg       0.87      0.88      0.88       664\n",
      "weighted avg       0.86      0.86      0.86       664\n",
      "\n"
     ]
    }
   ],
   "source": [
    "print(metrics.classification_report(y_test, predictions, target_names=labels))"
   ]
  },
  {
   "cell_type": "markdown",
   "metadata": {},
   "source": [
    "We conclude our analysis by concatenating our prediction and actual labels with the original DataFrame"
   ]
  },
  {
   "cell_type": "code",
   "execution_count": 33,
   "metadata": {},
   "outputs": [
    {
     "data": {
      "text/html": [
       "<div>\n",
       "<style scoped>\n",
       "    .dataframe tbody tr th:only-of-type {\n",
       "        vertical-align: middle;\n",
       "    }\n",
       "\n",
       "    .dataframe tbody tr th {\n",
       "        vertical-align: top;\n",
       "    }\n",
       "\n",
       "    .dataframe thead th {\n",
       "        text-align: right;\n",
       "    }\n",
       "</style>\n",
       "<table border=\"1\" class=\"dataframe\">\n",
       "  <thead>\n",
       "    <tr style=\"text-align: right;\">\n",
       "      <th></th>\n",
       "      <th>id</th>\n",
       "      <th>preview_url</th>\n",
       "      <th>mode</th>\n",
       "      <th>danceability</th>\n",
       "      <th>energy</th>\n",
       "      <th>loudness</th>\n",
       "      <th>speechiness</th>\n",
       "      <th>acousticness</th>\n",
       "      <th>instrumentalness</th>\n",
       "      <th>liveness</th>\n",
       "      <th>...</th>\n",
       "      <th>artist_genre_dance</th>\n",
       "      <th>artist_genre_hip</th>\n",
       "      <th>artist_genre_hop</th>\n",
       "      <th>artist_genre_metal</th>\n",
       "      <th>artist_genre_pop</th>\n",
       "      <th>artist_genre_rap</th>\n",
       "      <th>artist_genre_rock</th>\n",
       "      <th>artist_genre_trap</th>\n",
       "      <th>genre</th>\n",
       "      <th>0</th>\n",
       "    </tr>\n",
       "  </thead>\n",
       "  <tbody>\n",
       "    <tr>\n",
       "      <th>0</th>\n",
       "      <td>5RG1HRQocUAafoCrGd9lY5</td>\n",
       "      <td>https://p.scdn.co/mp3-preview/f9772fc13fc90d56...</td>\n",
       "      <td>0</td>\n",
       "      <td>0.444812</td>\n",
       "      <td>0.270910</td>\n",
       "      <td>0.657215</td>\n",
       "      <td>0.036162</td>\n",
       "      <td>0.882530</td>\n",
       "      <td>0.000000</td>\n",
       "      <td>0.416944</td>\n",
       "      <td>...</td>\n",
       "      <td>0</td>\n",
       "      <td>1</td>\n",
       "      <td>1</td>\n",
       "      <td>0</td>\n",
       "      <td>0</td>\n",
       "      <td>0</td>\n",
       "      <td>0</td>\n",
       "      <td>0</td>\n",
       "      <td>5</td>\n",
       "      <td>5</td>\n",
       "    </tr>\n",
       "    <tr>\n",
       "      <th>1</th>\n",
       "      <td>5toaXJWnmQCnGRh8eOrEwE</td>\n",
       "      <td>https://p.scdn.co/mp3-preview/23b00769d9f4d4b3...</td>\n",
       "      <td>1</td>\n",
       "      <td>0.875523</td>\n",
       "      <td>0.661099</td>\n",
       "      <td>0.818493</td>\n",
       "      <td>0.013983</td>\n",
       "      <td>0.231926</td>\n",
       "      <td>0.000000</td>\n",
       "      <td>0.279070</td>\n",
       "      <td>...</td>\n",
       "      <td>0</td>\n",
       "      <td>0</td>\n",
       "      <td>0</td>\n",
       "      <td>0</td>\n",
       "      <td>0</td>\n",
       "      <td>0</td>\n",
       "      <td>0</td>\n",
       "      <td>0</td>\n",
       "      <td>1</td>\n",
       "      <td>1</td>\n",
       "    </tr>\n",
       "    <tr>\n",
       "      <th>2</th>\n",
       "      <td>7b7MKh1kOgwASPihOs7vve</td>\n",
       "      <td>https://p.scdn.co/mp3-preview/0269a1cb51256005...</td>\n",
       "      <td>0</td>\n",
       "      <td>0.608945</td>\n",
       "      <td>0.602772</td>\n",
       "      <td>0.818604</td>\n",
       "      <td>0.534716</td>\n",
       "      <td>0.358433</td>\n",
       "      <td>0.000000</td>\n",
       "      <td>0.174419</td>\n",
       "      <td>...</td>\n",
       "      <td>0</td>\n",
       "      <td>0</td>\n",
       "      <td>0</td>\n",
       "      <td>0</td>\n",
       "      <td>0</td>\n",
       "      <td>0</td>\n",
       "      <td>0</td>\n",
       "      <td>0</td>\n",
       "      <td>5</td>\n",
       "      <td>5</td>\n",
       "    </tr>\n",
       "    <tr>\n",
       "      <th>3</th>\n",
       "      <td>5Z3GHaZ6ec9bsiI5BenrbY</td>\n",
       "      <td>https://p.scdn.co/mp3-preview/05e9e3f61b30cf53...</td>\n",
       "      <td>1</td>\n",
       "      <td>0.810531</td>\n",
       "      <td>0.539416</td>\n",
       "      <td>0.862765</td>\n",
       "      <td>0.045564</td>\n",
       "      <td>0.199798</td>\n",
       "      <td>0.000017</td>\n",
       "      <td>0.239203</td>\n",
       "      <td>...</td>\n",
       "      <td>0</td>\n",
       "      <td>0</td>\n",
       "      <td>0</td>\n",
       "      <td>0</td>\n",
       "      <td>2</td>\n",
       "      <td>0</td>\n",
       "      <td>0</td>\n",
       "      <td>0</td>\n",
       "      <td>4</td>\n",
       "      <td>4</td>\n",
       "    </tr>\n",
       "    <tr>\n",
       "      <th>4</th>\n",
       "      <td>0m2JqPFRwdhFEvTXQNYwmB</td>\n",
       "      <td>https://p.scdn.co/mp3-preview/be8ee0a916639101...</td>\n",
       "      <td>1</td>\n",
       "      <td>0.639788</td>\n",
       "      <td>0.624896</td>\n",
       "      <td>0.847980</td>\n",
       "      <td>0.013018</td>\n",
       "      <td>0.400601</td>\n",
       "      <td>0.000000</td>\n",
       "      <td>0.144518</td>\n",
       "      <td>...</td>\n",
       "      <td>0</td>\n",
       "      <td>0</td>\n",
       "      <td>0</td>\n",
       "      <td>0</td>\n",
       "      <td>1</td>\n",
       "      <td>0</td>\n",
       "      <td>0</td>\n",
       "      <td>0</td>\n",
       "      <td>1</td>\n",
       "      <td>1</td>\n",
       "    </tr>\n",
       "  </tbody>\n",
       "</table>\n",
       "<p>5 rows × 111 columns</p>\n",
       "</div>"
      ],
      "text/plain": [
       "                       id                                        preview_url  \\\n",
       "0  5RG1HRQocUAafoCrGd9lY5  https://p.scdn.co/mp3-preview/f9772fc13fc90d56...   \n",
       "1  5toaXJWnmQCnGRh8eOrEwE  https://p.scdn.co/mp3-preview/23b00769d9f4d4b3...   \n",
       "2  7b7MKh1kOgwASPihOs7vve  https://p.scdn.co/mp3-preview/0269a1cb51256005...   \n",
       "3  5Z3GHaZ6ec9bsiI5BenrbY  https://p.scdn.co/mp3-preview/05e9e3f61b30cf53...   \n",
       "4  0m2JqPFRwdhFEvTXQNYwmB  https://p.scdn.co/mp3-preview/be8ee0a916639101...   \n",
       "\n",
       "   mode  danceability    energy  loudness  speechiness  acousticness  \\\n",
       "0     0      0.444812  0.270910  0.657215     0.036162      0.882530   \n",
       "1     1      0.875523  0.661099  0.818493     0.013983      0.231926   \n",
       "2     0      0.608945  0.602772  0.818604     0.534716      0.358433   \n",
       "3     1      0.810531  0.539416  0.862765     0.045564      0.199798   \n",
       "4     1      0.639788  0.624896  0.847980     0.013018      0.400601   \n",
       "\n",
       "   instrumentalness  liveness  ...  artist_genre_dance  artist_genre_hip  \\\n",
       "0          0.000000  0.416944  ...                   0                 1   \n",
       "1          0.000000  0.279070  ...                   0                 0   \n",
       "2          0.000000  0.174419  ...                   0                 0   \n",
       "3          0.000017  0.239203  ...                   0                 0   \n",
       "4          0.000000  0.144518  ...                   0                 0   \n",
       "\n",
       "   artist_genre_hop  artist_genre_metal  artist_genre_pop  artist_genre_rap  \\\n",
       "0                 1                   0                 0                 0   \n",
       "1                 0                   0                 0                 0   \n",
       "2                 0                   0                 0                 0   \n",
       "3                 0                   0                 2                 0   \n",
       "4                 0                   0                 1                 0   \n",
       "\n",
       "   artist_genre_rock  artist_genre_trap  genre  0  \n",
       "0                  0                  0      5  5  \n",
       "1                  0                  0      1  1  \n",
       "2                  0                  0      5  5  \n",
       "3                  0                  0      4  4  \n",
       "4                  0                  0      1  1  \n",
       "\n",
       "[5 rows x 111 columns]"
      ]
     },
     "execution_count": 33,
     "metadata": {},
     "output_type": "execute_result"
    }
   ],
   "source": [
    "predictions = pd.DataFrame(predictions)\n",
    "actual = pd.DataFrame(y_test)\n",
    "results = pd.concat([X_test.reset_index(drop=True), actual.reset_index(drop=True), predictions.reset_index(drop=True)], axis=1)\n",
    "results.head()"
   ]
  }
 ],
 "metadata": {
  "kernelspec": {
   "display_name": "msci446",
   "language": "python",
   "name": "python3"
  },
  "language_info": {
   "codemirror_mode": {
    "name": "ipython",
    "version": 3
   },
   "file_extension": ".py",
   "mimetype": "text/x-python",
   "name": "python",
   "nbconvert_exporter": "python",
   "pygments_lexer": "ipython3",
   "version": "3.11.7"
  }
 },
 "nbformat": 4,
 "nbformat_minor": 2
}
